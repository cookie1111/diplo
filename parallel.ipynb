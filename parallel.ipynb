{
 "cells": [
  {
   "cell_type": "code",
   "execution_count": 12,
   "metadata": {
    "collapsed": true
   },
   "outputs": [],
   "source": [
    "import os.path\n",
    "import time\n",
    "\n",
    "import yfinance as yf\n",
    "import pandas as pd\n",
    "from IPython.display import display\n",
    "from matplotlib import pyplot as plt\n",
    "import datetime\n",
    "from sklearn.model_selection import train_test_split\n",
    "from sklearn.metrics import roc_auc_score\n",
    "import math\n",
    "import tqdm\n",
    "import numpy as np\n",
    "import itertools\n",
    "import pickle\n",
    "import os\n",
    "import pygad\n",
    "\n",
    "#pd.set_option('display.max_rows', None)\n",
    "pd.set_option('display.max_columns', None)\n",
    "pd.set_option('display.width', 1000)\n",
    "pd.set_option('display.colheader_justify', 'center')\n",
    "pd.set_option('display.precision', 3)\n",
    "\n",
    "plt.rcParams['figure.figsize'] = [15, 10]\n",
    "\n",
    "a = pd.read_html(\"https://en.wikipedia.org/wiki/Dow_Jones_Industrial_Average\")"
   ]
  },
  {
   "cell_type": "code",
   "execution_count": 13,
   "outputs": [],
   "source": [
    "test = pd.read_csv(\"historical_stock_prices.csv\",usecols=[0,1,2,6,7],index_col=[0])"
   ],
   "metadata": {
    "collapsed": false,
    "pycharm": {
     "name": "#%%\n"
    }
   }
  },
  {
   "cell_type": "markdown",
   "source": [
    "testing dataframes"
   ],
   "metadata": {
    "collapsed": false
   }
  },
  {
   "cell_type": "code",
   "execution_count": 21,
   "outputs": [
    {
     "data": {
      "text/plain": "1595236833.0155377"
     },
     "execution_count": 21,
     "metadata": {},
     "output_type": "execute_result"
    }
   ],
   "source": [
    "test.loc[:,'open'].sum()"
   ],
   "metadata": {
    "collapsed": false,
    "pycharm": {
     "name": "#%%\n"
    }
   }
  },
  {
   "cell_type": "code",
   "execution_count": 9,
   "outputs": [
    {
     "name": "stdout",
     "output_type": "stream",
     "text": [
      "open      1.0\n",
      "close     1.0\n",
      "volume      1\n",
      "date        1\n",
      "Name: AHH, dtype: object\n"
     ]
    }
   ],
   "source": [
    "print(test.iloc[0])"
   ],
   "metadata": {
    "collapsed": false,
    "pycharm": {
     "name": "#%%\n"
    }
   }
  },
  {
   "cell_type": "code",
   "execution_count": null,
   "outputs": [],
   "source": [
    "test['date'] = pd.to_datetime(test['date'])"
   ],
   "metadata": {
    "collapsed": false,
    "pycharm": {
     "name": "#%%\n"
    }
   }
  },
  {
   "cell_type": "code",
   "execution_count": null,
   "outputs": [],
   "source": [
    "valid_stonk = test.loc[test[\"date\"]<\"1.1.2000\"].groupby(\"ticker\").sum().index\n",
    "\n",
    "c = test.groupby(\"ticker\").sum()\n",
    "c = c.loc[valid_stonk].sort_values(by=[\"volume\"],ascending=False).head(100)"
   ],
   "metadata": {
    "collapsed": false,
    "pycharm": {
     "name": "#%%\n"
    }
   }
  },
  {
   "cell_type": "code",
   "execution_count": null,
   "outputs": [],
   "source": [
    "tickerji = c.index"
   ],
   "metadata": {
    "collapsed": false,
    "pycharm": {
     "name": "#%%\n"
    }
   }
  },
  {
   "cell_type": "code",
   "execution_count": null,
   "outputs": [],
   "source": [
    "#za trenirati uporabimo prvih deset let\n",
    "groupe = test.groupby(\"ticker\")\n",
    "ticker400_data = {g:groupe.get_group(g) for g in groupe.groups if g in tickerji}\n",
    "\n",
    "def trendReversals(df,percent,prevPivot = -1,sgn=None):\n",
    "    #če ni prejšne regerenčne točke postavimo na prvo točko kot referenčno\n",
    "    if prevPivot == -1:\n",
    "        prevPivot = 0\n",
    "    #resetiramo highest in lowest na prejšno referenčno točko, highest bo zvišveal prejšno referenčno točko saj le ta\n",
    "    #je registrirana ko pridemo percent število procentov sstran od prejšne referenčne točke to ne pomeni da je to najvišja točka pivota\n",
    "    #le da se je zamenjal trend\n",
    "    highest = lowest = prevPivot\n",
    "    #iteriramo skozi podatke v podatkovni monžici\n",
    "    for i in range(prevPivot,len(df.index)):\n",
    "        #če je trenutna točka višja od točke shranjene v highest\n",
    "        if df.iloc[i]['open'] > df.iloc[highest]['open']:\n",
    "            #v primeru da je bil prejšnji trend pozitiven in je definiran zvišujemo tudi lokacijo pivota saj je le ta najvišja točka pred spremembo trenda\n",
    "            if sgn is not None and sgn:\n",
    "                prevPivot = i\n",
    "            #posodobimo vrednost highest z novo najvišjo vrednostjo\n",
    "            highest = i\n",
    "        #če je trenutna točka nižja od točke shranjene v lowest\n",
    "        if df.iloc[i]['open'] < df.iloc[lowest]['open']:\n",
    "            #če je prejšnji trend definiran in je negativen torej je pivot točka najnižja točka prejšnjega trenda in jo vsakič updatamo ko najdemo nižjo\n",
    "            if sgn is not None and not sgn:\n",
    "                prevPivot = i\n",
    "            #posodobimo najnižjo točko vsakič ko je trenutna točka nižja\n",
    "            lowest = i\n",
    "        # če je prejšnji trend nedefiniran ali negativen in je trneutna točka od prejšnjega pivota(najvišje/nižje točke trenda) oddaljena za percent\n",
    "        # se je trend zamenjal in sedaj iščemo novo pivot točko\n",
    "        if (sgn is None or not sgn) and  abs((df.iloc[i]['open']-df.iloc[prevPivot][\"open\"])/df.iloc[prevPivot][\"open\"]) > percent:\n",
    "            sgnN = True\n",
    "            break\n",
    "        elif (sgn is None or sgn) and  abs((df.iloc[i]['open']-df.iloc[prevPivot][\"open\"])/df.iloc[prevPivot][\"open\"]) > percent:\n",
    "            sgnN = False\n",
    "            break\n",
    "    if  i == len(df.index)-1:\n",
    "            return [prevPivot]\n",
    "\n",
    "    return [prevPivot] + trendReversals(df,percent,prevPivot,sgnN)\n"
   ],
   "metadata": {
    "collapsed": false,
    "pycharm": {
     "name": "#%%\n"
    }
   }
  },
  {
   "cell_type": "code",
   "execution_count": null,
   "outputs": [],
   "source": [
    "if os.path.isfile('./ticker400_data.pickle'):\n",
    "    with open('ticker400_data.pickle', 'rb') as handle:\n",
    "        ticker400_data = pickle.load(handle)\n",
    "    with open('ticker400_trend15.pickle', 'rb') as handle:\n",
    "        ticker400_trend15 = pickle.load(handle)\n",
    "    with open('ticker400_tren10.pickle', 'rb') as handle:\n",
    "        ticker400_trend10 = pickle.load(handle)\n",
    "    with open('ticker400_trend20.pickle', 'rb') as handle:\n",
    "        ticker400_trend20 = pickle.load(handle)\n",
    "else:\n",
    "\n",
    "    ticker400_trend10 = {}\n",
    "    ticker400_trend15 = {}\n",
    "    ticker400_trend20 = {}\n",
    "    for t in ticker400_data:\n",
    "        ticker400_data[t] = ticker400_data[t].sort_values(by=['date'])\n",
    "        ticker400_data[t][\"return\"] = (ticker400_data[t][\"open\"] - ticker400_data[t].shift(1,fill_value=ticker400_data[t]['open'].iloc[0])[\"open\"])/ticker400_data[t].shift(1, fill_value=ticker400_data[t]['open'].iloc[0])[\"open\"]\n",
    "        ticker400_data[t][\"volume%\"] =  (ticker400_data[t][\"volume\"] - ticker400_data[t].shift(1,fill_value=ticker400_data[t]['volume'].iloc[0])[\"volume\"])/ticker400_data[t].shift(1, fill_value=ticker400_data[t]['volume'].iloc[0])[\"volume\"]\n",
    "        #delamo na vrsticah >n-1\n",
    "        ticker400_data[t][\"volume5%\"] = (ticker400_data[t][\"volume\"] - ticker400_data[t]['volume'].rolling(5).mean())/ticker400_data[t]['volume'].rolling(5).mean()\n",
    "        ticker400_data[t][\"volume10%\"] = (ticker400_data[t][\"volume\"] - ticker400_data[t]['volume'].rolling(10).mean())/ticker400_data[t]['volume'].rolling(10).mean()\n",
    "        ticker400_data[t][\"volume15%\"] = (ticker400_data[t][\"volume\"] - ticker400_data[t]['volume'].rolling(15).mean())/ticker400_data[t]['volume'].rolling(15).mean()\n",
    "        ticker400_data[t][\"volume20%\"] = (ticker400_data[t][\"volume\"] - ticker400_data[t]['volume'].rolling(20).mean())/ticker400_data[t]['volume'].rolling(20).mean()\n",
    "        ticker400_trend15[t] = trendReversals(ticker400_data[t],0.15)\n",
    "        ticker400_trend20[t] = trendReversals(ticker400_data[t],0.20)\n",
    "        ticker400_trend10[t] = trendReversals(ticker400_data[t],0.10)\n",
    "        ticker400_data[t].reset_index(drop=True,inplace=True)\n"
   ],
   "metadata": {
    "collapsed": false,
    "pycharm": {
     "name": "#%%\n"
    }
   }
  },
  {
   "cell_type": "code",
   "execution_count": null,
   "outputs": [],
   "source": [
    "ticker400_trend10B = {}\n",
    "ticker400_trend15B = {}\n",
    "ticker400_trend20B = {}\n",
    "\n",
    "for t in ticker400_data:\n",
    "    ticker400_trend10B[t] = pd.DataFrame(data=[False]*len(ticker400_data[t]))\n",
    "    ticker400_trend10B[t].iloc[ticker400_trend10[t]] = True\n",
    "    ticker400_trend15B[t] = pd.DataFrame(data=[False]*len(ticker400_data[t]))\n",
    "    ticker400_trend15B[t].iloc[ticker400_trend15[t]] = True\n",
    "    ticker400_trend20B[t] = pd.DataFrame(data=[False]*len(ticker400_data[t]))\n",
    "    ticker400_trend20B[t].iloc[ticker400_trend20[t]] = True"
   ],
   "metadata": {
    "collapsed": false,
    "pycharm": {
     "name": "#%%\n"
    }
   }
  },
  {
   "cell_type": "code",
   "execution_count": null,
   "outputs": [],
   "source": [
    "import pickle\n",
    "\n",
    "with open('ticker400_data.pickle', 'wb') as handle:\n",
    "    pickle.dump(ticker400_data, handle, protocol=pickle.HIGHEST_PROTOCOL)\n",
    "with open('ticker400_tren10.pickle','wb') as fp:\n",
    "    pickle.dump(ticker400_trend10,fp,protocol=pickle.HIGHEST_PROTOCOL)\n",
    "with open('ticker400_trend15.pickle','wb') as fp1:\n",
    "    pickle.dump(ticker400_trend15,fp1,protocol=pickle.HIGHEST_PROTOCOL)\n",
    "with open('ticker400_trend20.pickle','wb') as fp2:\n",
    "    pickle.dump(ticker400_trend20,fp2,protocol=pickle.HIGHEST_PROTOCOL)"
   ],
   "metadata": {
    "collapsed": false,
    "pycharm": {
     "name": "#%%\n"
    }
   }
  },
  {
   "cell_type": "code",
   "execution_count": null,
   "outputs": [],
   "source": [
    "splits25 = {g: train_test_split(ticker400_data[g],shuffle=False)for g in ticker400_data}\n",
    "splits25_YB = {g:{10:train_test_split(ticker400_trend10B[g],shuffle=False),15:train_test_split(ticker400_trend15B[g],shuffle=False),20:train_test_split(ticker400_trend20B[g],shuffle=False)} for g in ticker400_data}\n",
    "#splits50rolling = {g: train_test_split(ticker400_data[g], train_size=0.5,shuffle=False)for g in ticker400_data}\n",
    "splits50rolling = {}"
   ],
   "metadata": {
    "collapsed": false,
    "pycharm": {
     "name": "#%%\n"
    }
   }
  },
  {
   "cell_type": "code",
   "execution_count": null,
   "outputs": [],
   "source": [
    "def find_intersect_2_ordered_lists(list1,list2):\n",
    "    li2=li1=0\n",
    "    intersect = []\n",
    "    if list1 is None or list2 is None or len(list1) == 0 or len(list2)==0 :\n",
    "        return []\n",
    "    while True:\n",
    "        if list1[li1] == list2[li2]:\n",
    "            intersect.append(list1[li1])\n",
    "            li1 = li1 + 1\n",
    "            li2 = li2 + 1\n",
    "        elif list1[li1] < list2[li2]:\n",
    "            li1 = li1 + 1\n",
    "        else:\n",
    "            li2 = li2 + 1\n",
    "        if li1 == len(list1) or li2 == len(list2):\n",
    "            return intersect\n",
    "\n",
    "def all_true(truers):\n",
    "    ret = True\n",
    "    for j in truers:\n",
    "        if not j:\n",
    "            return False\n",
    "    return True\n",
    "\n",
    "def combine_lists(lists):\n",
    "    idxs = [0 for l in lists]\n",
    "    lens = [len(l) for l in lists]\n",
    "    comb = []\n",
    "    while True:\n",
    "        if all_true([l == k for (l,k) in zip(idxs,lens)]):\n",
    "            return comb\n",
    "        cur = idxs.index(min(idxs))"
   ],
   "metadata": {
    "collapsed": false,
    "pycharm": {
     "name": "#%%\n"
    }
   }
  },
  {
   "cell_type": "code",
   "execution_count": null,
   "outputs": [],
   "source": [
    "def fit_params_AUC_lagged_combinedOR(df,dfY,tick,percent,n_lagged = 20):\n",
    "    def fita(solution, index):\n",
    "        #24 genov\n",
    "        #solution = [retUP,volUP,vol5UP,vol10UP,vol15UP,vol20UP,retDW,volDW,vol5DW,vol10DW,vol15DW,vol20DW,priorRUp,priorVUp,priorvol5UP,priorvol10UP,priorvol15UP,priorvol20UP,priorRDW,priorVDW,priorvol5DW,priorvol10DW,priorvol15DW,priorvol20DW]\n",
    "        for ite in range(len(solution)):\n",
    "            if ite<12 and solution[ite] <= -1:\n",
    "                return -1\n",
    "            elif ite>=12 and solution[ite] < 0:\n",
    "                return -1\n",
    "        solution = [x[0] if hasattr(x,'__len__') else x for x in solution]\n",
    "        #print(solution)\n",
    "        col = 'volume%'\n",
    "        if n_lagged == 5:\n",
    "            col = 'volume5%'\n",
    "        if n_lagged == 10:\n",
    "            col = 'volume10%'\n",
    "        if n_lagged == 15:\n",
    "            col = 'volume15%'\n",
    "        if n_lagged == 20:\n",
    "            col = 'volume20%'\n",
    "        retFUp = solution[0]\n",
    "        volFUp = solution[1]\n",
    "        retFDown = solution[6]\n",
    "        volFDown = solution[7]\n",
    "        fit = 0\n",
    "        l_UP = []\n",
    "        l_DW = []\n",
    "        buildingblocksUP = []\n",
    "        buildingblocksDW = []\n",
    "        test = df[tick][0][n_lagged-1:]\n",
    "        up = test.loc[(test['return'].shift(math.floor(solution[12])) > solution[0]) |\n",
    "                      (test['volume%'].shift(math.floor(solution[13])) > solution[1]) |\n",
    "                       (test['volume5%'].shift(math.floor(solution[14])) > solution[2]) |\n",
    "                        (test['volume10%'].shift(math.floor(solution[15])) > solution[3]) |\n",
    "                         (test['volume15%'].shift(math.floor(solution[16])) > solution[4]) |\n",
    "                          (test['volume20%'].shift(math.floor(solution[17])) > solution[5])\n",
    "                        ].index\n",
    "        down = test.loc[(test['return'].shift(math.floor(solution[18])) > solution[6]) |\n",
    "        (test['volume%'].shift(math.floor(solution[19])) > solution[7]) |\n",
    "        (test['volume5%'].shift(math.floor(solution[20])) > solution[8]) |\n",
    "        (test['volume10%'].shift(math.floor(solution[21])) > solution[9]) |\n",
    "        (test['volume15%'].shift(math.floor(solution[22])) > solution[10]) |\n",
    "        (test['volume20%'].shift(math.floor(solution[23])) > solution[11])\n",
    "                        ].index\n",
    "\n",
    "\n",
    "        res= pd.DataFrame(data=[False]*len(df[tick][0][n_lagged-1:]))\n",
    "\n",
    "        cut = 0\n",
    "        for k in reversed(up):\n",
    "            if k < len(df[tick][0][n_lagged-1:]):\n",
    "                break\n",
    "            else:\n",
    "                cut = cut+1\n",
    "        if cut > 0:\n",
    "            up = up[:-cut]\n",
    "        #down = list(find_intersect_2_ordered_lists(lfVDw,lfRDw))\n",
    "        cut = 0\n",
    "        for k in reversed(down):\n",
    "            if k < len(df[tick][0][n_lagged-1:]):\n",
    "                break\n",
    "            else:\n",
    "                cut = cut+1\n",
    "        if cut > 0:\n",
    "            down = down[:-cut]\n",
    "        if up is not None :\n",
    "            res.iloc[up] = True\n",
    "        if down is not None :\n",
    "            res.iloc[down] = True\n",
    "        #print(roc_auc_score(dfY[tick][percent][0],res))\n",
    "        return roc_auc_score(dfY[tick][percent][0][n_lagged-1:],res)\n",
    "    return fita"
   ],
   "metadata": {
    "collapsed": false,
    "pycharm": {
     "name": "#%%\n"
    }
   }
  },
  {
   "cell_type": "code",
   "execution_count": null,
   "outputs": [],
   "source": [
    "import warnings\n",
    "warnings.simplefilter(action='ignore',category=FutureWarning)\n",
    "count = 0\n",
    "pos = 0\n",
    "if os.path.isfile('./eval2.pkl'):\n",
    "    ga_evaluation = pd.read_pickle('./eval2.pkl')\n",
    "    with open('pos2.pickle', 'rb') as handle:\n",
    "        pos = pickle.load(handle)\n",
    "else:\n",
    "    ga_evaluation = pd.DataFrame(columns=['St. gen', 'St. starsev','Velikost pop','Izbira starsev','K Turnir','Tip križanja','Tip muaticje','Mutacija z zamenjavo','Ustavitveni pogoj','AUC','Trajanje'])\n",
    "\n",
    "t = c.head(1).index.values[0]\n",
    "num_generations = [100]\n",
    "num_parents_mating = [0.05,0.1,0.25,0.5]\n",
    "sol_per_pop = [10,20,40,80,160,320]\n",
    "#[retUP,volUP,vol5UP,vol10UP,vol15UP,vol20UP,retDW,volDW,vol5DW,vol10DW,vol15DW,vol20DW,priorRUp,priorVUp,priorvol5UP,priorvol10UP,priorvol15UP,priorvol20UP,priorRDW,priorVDW,priorvol5DW,priorvol10DW,priorvol15DW,priorvol20DW]\n",
    "num_genes = 24\n",
    "#!!!!!\n",
    "gene_type = [np.float16 for x in range(12)]+[np.uint8 for x in range(12)]\n",
    "init_range_low = -1\n",
    "init_range_high = 8\n",
    "parent_selection = ['sss','rws','sus','rank','random','tournament']\n",
    "#if tournament\n",
    "k_tournament = [0.05,0.1,0.15,0.2,0.4,0.5,0.6,0.7]\n",
    "crossover_tip = ['single_point','two_points','uniform','scattered']\n",
    "mutation_type=['random','swap','inversion','scramble',None]\n",
    "#if mutation type random\n",
    "mutation_by_replacement = [True,False]\n",
    "#!!!!!\n",
    "gene_space = [{'low':-1,'high':8} for x in range(12)]+[[y for y in range(20)] for j in range(12)]\n",
    "save_best_solutions = True\n",
    "suppress_warnings = True\n",
    "stop_criteria = ['saturate_5','saturate_7','saturate_9','saturate_12','saturate_15',]\n",
    "\n",
    "comb = list(itertools.product(num_generations,num_parents_mating,sol_per_pop,parent_selection,k_tournament,crossover_tip,mutation_type,mutation_by_replacement,stop_criteria))\n",
    "\n",
    "print(len(comb))\n",
    "#testiran bo za 10\n",
    "for a in comb:\n",
    "    if count <= pos and pos != 0 :\n",
    "        #if count % 100:\n",
    "            #print(\"running\" + str(count))\n",
    "        count = count + 1\n",
    "        continue\n",
    "    start = datetime.datetime.now()\n",
    "\n",
    "    if count%100 == 0:\n",
    "        print(count)\n",
    "    if(a[3] == 'tournament'):\n",
    "        if(a[6] == 'random'):\n",
    "            #print(\"hello\")\n",
    "            ins = pygad.GA(num_genes=24,gene_space=gene_space,gene_type=gene_type,init_range_low=init_range_low,init_range_high=init_range_high,save_best_solutions=True,suppress_warnings=suppress_warnings,num_generations=a[0],num_parents_mating=math.ceil(a[1]*a[2]),fitness_func=fit_params_AUC_lagged_combinedOR(splits25,splits25_YB,t,10),sol_per_pop=a[2],parent_selection_type=a[3],K_tournament=math.ceil(a[4]*(math.ceil(a[1]*a[2]))),crossover_type=a[5],mutation_type=a[6],mutation_by_replacement=a[7],stop_criteria=a[8])\n",
    "            ins.run()\n",
    "            end = datetime.datetime.now()\n",
    "            ga_evaluation = ga_evaluation.append({'St. gen':a[0], 'St. starsev':math.ceil(a[1]*a[2]),'Velikost pop': a[2],'Izbira starsev':a[3],'K Turnir':math.ceil(a[4]*(math.ceil(a[1]*a[2]))),'Tip križanja':a[5],'Tip muaticje':a[6],'Mutacija z zamenjavo':a[7],'Ustavitveni pogoj':a[8],'AUC':ins.best_solutions_fitness[-1],'Trajanje':end-start},ignore_index=True)\n",
    "        else:\n",
    "            if(a[7]):\n",
    "                ins = pygad.GA(num_genes=24,gene_space=gene_space,gene_type=gene_type,init_range_low=init_range_low,init_range_high=init_range_high,save_best_solutions=True,suppress_warnings=suppress_warnings,num_generations=a[0],num_parents_mating=math.ceil(a[1]*a[2]),fitness_func=fit_params_AUC_lagged_combinedOR(splits25,splits25_YB,t,10),sol_per_pop=a[2],parent_selection_type=a[3],K_tournament=math.ceil(a[4]*(math.ceil(a[1]*a[2]))),crossover_type=a[5],mutation_type=a[6],mutation_by_replacement=a[7],stop_criteria=a[8])\n",
    "                ins.run()\n",
    "                end = datetime.datetime.now()\n",
    "                ga_evaluation = ga_evaluation.append({'St. gen':a[0], 'St. starsev':math.ceil(a[1]*a[2]),'Velikost pop': a[2],'Izbira starsev':a[3],'K Turnir':math.ceil(a[4]*(math.ceil(a[1]*a[2]))),'Tip križanja':a[5],'Tip muaticje':a[6],'Mutacija z zamenjavo':a[7],'Ustavitveni pogoj':a[8],'AUC':ins.best_solutions_fitness[-1],'Trajanje':end-start},ignore_index=True)\n",
    "    else:\n",
    "        if(a[4] == 0.05):\n",
    "            if(a[6] == 'random'):\n",
    "                ins = pygad.GA(num_genes=24,gene_space=gene_space,gene_type=gene_type,init_range_low=init_range_low,init_range_high=init_range_high,save_best_solutions=True,suppress_warnings=suppress_warnings,num_generations=a[0],num_parents_mating=math.ceil(a[1]*a[2]),fitness_func=fit_params_AUC_lagged_combinedOR(splits25,splits25_YB,t,10),sol_per_pop=a[2],parent_selection_type=a[3],K_tournament=math.ceil(a[4]*(math.ceil(a[1]*a[2]))),crossover_type=a[5],mutation_type=a[6],mutation_by_replacement=a[7],stop_criteria=a[8])\n",
    "                ins.run()\n",
    "                end = datetime.datetime.now()\n",
    "                ga_evaluation = ga_evaluation.append({'St. gen':a[0], 'St. starsev':math.ceil(a[1]*a[2]),'Velikost pop': a[2],'Izbira starsev':a[3],'K Turnir':math.ceil(a[4]*(math.ceil(a[1]*a[2]))),'Tip križanja':a[5],'Tip muaticje':a[6],'Mutacija z zamenjavo':a[7],'Ustavitveni pogoj':a[8],'AUC':ins.best_solutions_fitness[-1],'Trajanje':end-start},ignore_index=True)\n",
    "            else:\n",
    "                if(a[7]):\n",
    "                    ins = pygad.GA(num_genes=24,gene_space=gene_space,gene_type=gene_type,init_range_low=init_range_low,init_range_high=init_range_high,save_best_solutions=True,suppress_warnings=suppress_warnings,num_generations=a[0],num_parents_mating=math.ceil(a[1]*a[2]),fitness_func=fit_params_AUC_lagged_combinedOR(splits25,splits25_YB,t,10),sol_per_pop=a[2],parent_selection_type=a[3],K_tournament=math.ceil(a[4]*(math.ceil(a[1]*a[2]))),crossover_type=a[5],mutation_type=a[6],mutation_by_replacement=a[7],stop_criteria=a[8])\n",
    "                    ins.run()\n",
    "                    end = datetime.datetime.now()\n",
    "                    ga_evaluation = ga_evaluation.append({'St. gen':a[0], 'St. starsev':math.ceil(a[1]*a[2]),'Velikost pop': a[2],'Izbira starsev':a[3],'K Turnir':math.ceil(a[4]*(math.ceil(a[1]*a[2]))),'Tip križanja':a[5],'Tip muaticje':a[6],'Mutacija z zamenjavo':a[7],'Ustavitveni pogoj':a[8],'AUC':ins.best_solutions_fitness[-1],'Trajanje':end-start},ignore_index=True)\n",
    "    count = count+1\n",
    "    gene_type = [np.float16 for x in range(12)]+[np.uint8 for x in range(12)]\n",
    "    if count % 100 == 0 and ins is not None:\n",
    "        pd.to_pickle(ga_evaluation,'./eval2.pkl')\n",
    "        with open('pos2.pickle', 'wb') as handle:\n",
    "            pickle.dump(count, handle, protocol=pickle.HIGHEST_PROTOCOL)\n",
    "\n",
    "print(count)\n",
    "pd.to_pickle(ga_evaluation,'./eval2.pkl')"
   ],
   "metadata": {
    "collapsed": false,
    "pycharm": {
     "name": "#%%\n"
    }
   }
  }
 ],
 "metadata": {
  "kernelspec": {
   "display_name": "Python 3",
   "language": "python",
   "name": "python3"
  },
  "language_info": {
   "codemirror_mode": {
    "name": "ipython",
    "version": 2
   },
   "file_extension": ".py",
   "mimetype": "text/x-python",
   "name": "python",
   "nbconvert_exporter": "python",
   "pygments_lexer": "ipython2",
   "version": "2.7.6"
  }
 },
 "nbformat": 4,
 "nbformat_minor": 0
}