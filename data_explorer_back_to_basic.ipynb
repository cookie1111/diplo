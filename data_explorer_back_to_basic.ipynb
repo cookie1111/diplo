{
 "cells": [
  {
   "cell_type": "code",
   "execution_count": 48,
   "metadata": {
    "collapsed": true
   },
   "outputs": [],
   "source": [
    "import concurrent\n",
    "import os.path\n",
    "import time\n",
    "import timeit\n",
    "from typing import Callable, Mapping, Dict, List\n",
    "import logging\n",
    "import pandas as pd\n",
    "from IPython.display import display\n",
    "from matplotlib import pyplot as plt\n",
    "import datetime\n",
    "from sklearn.model_selection import train_test_split\n",
    "from sklearn.metrics import roc_auc_score , fbeta_score\n",
    "import math\n",
    "import tqdm\n",
    "import numpy as np\n",
    "import itertools\n",
    "import pickle\n",
    "import os\n",
    "import pygad\n",
    "import numexpr\n",
    "from collections import OrderedDict\n",
    "import seaborn as sns\n",
    "from scipy import signal\n",
    "from scipy import stats\n",
    "\n",
    "#pd.set_option('display.max_rows', None)\n",
    "pd.set_option('display.max_columns', None)\n",
    "pd.set_option('display.width', 1000)\n",
    "pd.set_option('display.colheader_justify', 'center')\n",
    "pd.set_option('display.precision', 3)\n",
    "\n",
    "plt.rcParams['figure.figsize'] = [15, 10]\n",
    "\n",
    "#a = pd.read_html(\"https://en.wikipedia.org/wiki/Dow_Jones_Industrial_Average\")\n"
   ]
  },
  {
   "cell_type": "markdown",
   "source": [
    "### Kaggle dataset"
   ],
   "metadata": {
    "collapsed": false
   }
  },
  {
   "cell_type": "code",
   "execution_count": 2,
   "outputs": [],
   "source": [
    "test = pd.read_csv(\"snp500.csv\")"
   ],
   "metadata": {
    "collapsed": false,
    "pycharm": {
     "name": "#%%\n"
    }
   }
  },
  {
   "cell_type": "code",
   "execution_count": 3,
   "outputs": [
    {
     "data": {
      "text/plain": "          Date      Open     High      Low     Close   Adj Close    Volume  \n0      1950-01-03    16.66    16.66    16.66    16.66     16.66      1260000\n1      1950-01-04    16.85    16.85    16.85    16.85     16.85      1890000\n2      1950-01-05    16.93    16.93    16.93    16.93     16.93      2550000\n3      1950-01-06    16.98    16.98    16.98    16.98     16.98      2010000\n4      1950-01-09    17.08    17.08    17.08    17.08     17.08      2520000\n...           ...      ...      ...      ...      ...        ...         ...\n11326  1995-01-12   461.64   461.93   460.63   461.64    461.64    313040000\n11843  1997-01-28   765.02   776.32   761.75   765.02    765.02    541580000\n14206  2006-06-20  1240.12  1249.01  1238.87  1240.12   1240.12   2232950000\n15291  2010-10-11  1165.32  1168.68  1162.02  1165.32   1165.32   2505900000\n16926  2017-04-10  2357.16  2366.37  2351.50  2357.16   2357.16   2785410000\n\n[3104 rows x 7 columns]",
      "text/html": "<div>\n<style scoped>\n    .dataframe tbody tr th:only-of-type {\n        vertical-align: middle;\n    }\n\n    .dataframe tbody tr th {\n        vertical-align: top;\n    }\n\n    .dataframe thead th {\n        text-align: right;\n    }\n</style>\n<table border=\"1\" class=\"dataframe\">\n  <thead>\n    <tr style=\"text-align: center;\">\n      <th></th>\n      <th>Date</th>\n      <th>Open</th>\n      <th>High</th>\n      <th>Low</th>\n      <th>Close</th>\n      <th>Adj Close</th>\n      <th>Volume</th>\n    </tr>\n  </thead>\n  <tbody>\n    <tr>\n      <th>0</th>\n      <td>1950-01-03</td>\n      <td>16.66</td>\n      <td>16.66</td>\n      <td>16.66</td>\n      <td>16.66</td>\n      <td>16.66</td>\n      <td>1260000</td>\n    </tr>\n    <tr>\n      <th>1</th>\n      <td>1950-01-04</td>\n      <td>16.85</td>\n      <td>16.85</td>\n      <td>16.85</td>\n      <td>16.85</td>\n      <td>16.85</td>\n      <td>1890000</td>\n    </tr>\n    <tr>\n      <th>2</th>\n      <td>1950-01-05</td>\n      <td>16.93</td>\n      <td>16.93</td>\n      <td>16.93</td>\n      <td>16.93</td>\n      <td>16.93</td>\n      <td>2550000</td>\n    </tr>\n    <tr>\n      <th>3</th>\n      <td>1950-01-06</td>\n      <td>16.98</td>\n      <td>16.98</td>\n      <td>16.98</td>\n      <td>16.98</td>\n      <td>16.98</td>\n      <td>2010000</td>\n    </tr>\n    <tr>\n      <th>4</th>\n      <td>1950-01-09</td>\n      <td>17.08</td>\n      <td>17.08</td>\n      <td>17.08</td>\n      <td>17.08</td>\n      <td>17.08</td>\n      <td>2520000</td>\n    </tr>\n    <tr>\n      <th>...</th>\n      <td>...</td>\n      <td>...</td>\n      <td>...</td>\n      <td>...</td>\n      <td>...</td>\n      <td>...</td>\n      <td>...</td>\n    </tr>\n    <tr>\n      <th>11326</th>\n      <td>1995-01-12</td>\n      <td>461.64</td>\n      <td>461.93</td>\n      <td>460.63</td>\n      <td>461.64</td>\n      <td>461.64</td>\n      <td>313040000</td>\n    </tr>\n    <tr>\n      <th>11843</th>\n      <td>1997-01-28</td>\n      <td>765.02</td>\n      <td>776.32</td>\n      <td>761.75</td>\n      <td>765.02</td>\n      <td>765.02</td>\n      <td>541580000</td>\n    </tr>\n    <tr>\n      <th>14206</th>\n      <td>2006-06-20</td>\n      <td>1240.12</td>\n      <td>1249.01</td>\n      <td>1238.87</td>\n      <td>1240.12</td>\n      <td>1240.12</td>\n      <td>2232950000</td>\n    </tr>\n    <tr>\n      <th>15291</th>\n      <td>2010-10-11</td>\n      <td>1165.32</td>\n      <td>1168.68</td>\n      <td>1162.02</td>\n      <td>1165.32</td>\n      <td>1165.32</td>\n      <td>2505900000</td>\n    </tr>\n    <tr>\n      <th>16926</th>\n      <td>2017-04-10</td>\n      <td>2357.16</td>\n      <td>2366.37</td>\n      <td>2351.50</td>\n      <td>2357.16</td>\n      <td>2357.16</td>\n      <td>2785410000</td>\n    </tr>\n  </tbody>\n</table>\n<p>3104 rows × 7 columns</p>\n</div>"
     },
     "execution_count": 3,
     "metadata": {},
     "output_type": "execute_result"
    }
   ],
   "source": [
    "test.loc[test[\"Open\"] == test[\"Close\"]]"
   ],
   "metadata": {
    "collapsed": false,
    "pycharm": {
     "name": "#%%\n"
    }
   }
  },
  {
   "cell_type": "code",
   "execution_count": 4,
   "outputs": [],
   "source": [
    "test['date'] = pd.to_datetime(test['Date'])"
   ],
   "metadata": {
    "collapsed": false,
    "pycharm": {
     "name": "#%%\n"
    }
   }
  },
  {
   "cell_type": "markdown",
   "source": [
    "računanje točk obrata trenda"
   ],
   "metadata": {
    "collapsed": false
   }
  },
  {
   "cell_type": "code",
   "execution_count": 5,
   "outputs": [],
   "source": [
    "# rewriting trendReversal because i think i made it incorrectly\n",
    "def trend_reversal_min_max(opens: pd.Series, percent: float) -> list:\n",
    "    \"\"\"\n",
    "    Calculate trend reversal points based on percent\n",
    "    :param opens: pandas series of stock open prices\n",
    "    :param percent: percent of reversal to consider a point a pivot\n",
    "    :return: list of pivots\n",
    "    \"\"\"\n",
    "    min_p = max_p = opens.iloc[0]\n",
    "    idx_min = idx_max = 0\n",
    "    init_all = True\n",
    "    pivots = []\n",
    "\n",
    "    for idx, val in opens.items():\n",
    "        # we have found a new maximum\n",
    "        if init_all:\n",
    "            if val >= max_p:\n",
    "                max_p = val\n",
    "                idx_max = idx\n",
    "            if val <= min_p:\n",
    "                min_p = val\n",
    "                idx_min = idx\n",
    "            if abs(max_p - min_p)/min_p >= percent:\n",
    "                init_all = False\n",
    "                # first pivot was a minimum\n",
    "                if idx_min < idx_max:\n",
    "                    pivots.append(idx_min)\n",
    "                    max_last_added = False\n",
    "                # first pivot was a maximum\n",
    "                else:\n",
    "                    pivots.append(idx_max)\n",
    "                    max_last_added = True\n",
    "        else:\n",
    "            if max_last_added:\n",
    "                # we have to reset max_p because a new trough has been reached\n",
    "                if min_p >= val:\n",
    "                    min_p = val\n",
    "                    max_p = val\n",
    "                    idx_min = idx\n",
    "                    idx_max = idx\n",
    "                # we are searching for the start of an uptrend\n",
    "                if max_p <= val:\n",
    "                    max_p = val\n",
    "                    idx_max = idx\n",
    "                # we have come percent% away from minimum so that means that is a valid minimum we reset max_p and min_p to current point and start looking for maximum\n",
    "                if abs(max_p - min_p)/min_p >= percent:\n",
    "                    pivots.append(idx_min)\n",
    "                    max_last_added = False\n",
    "                    min_p = val\n",
    "                    max_p = val\n",
    "                    idx_min = idx\n",
    "                    idx_max = idx\n",
    "            else:\n",
    "                if max_p <= val:\n",
    "                    min_p = val\n",
    "                    max_p = val\n",
    "                    idx_min = idx\n",
    "                    idx_max = idx\n",
    "                if min_p >= val:\n",
    "                    min_p = val\n",
    "                    idx_min = idx\n",
    "                if abs(max_p - min_p)/min_p >= percent:\n",
    "                    pivots.append(idx_max)\n",
    "                    max_last_added = True\n",
    "                    min_p = val\n",
    "                    max_p = val\n",
    "                    idx_min = idx\n",
    "                    idx_max = idx\n",
    "    return pivots\n"
   ],
   "metadata": {
    "collapsed": false,
    "pycharm": {
     "name": "#%%\n"
    }
   }
  },
  {
   "cell_type": "code",
   "execution_count": 6,
   "outputs": [
    {
     "name": "stdout",
     "output_type": "stream",
     "text": [
      "0.2880866584698175 17542\n"
     ]
    },
    {
     "data": {
      "text/plain": "'\\nplt.plot(range(len(test.index)),test[\"Open\"])\\nplt.plot(a,test[\"Open\"].iloc[a])\\nplt.yscale(\"log\")\\nplt.show()\\n'"
     },
     "execution_count": 6,
     "metadata": {},
     "output_type": "execute_result"
    }
   ],
   "source": [
    "\n",
    "a = trend_reversal_min_max(test[\"Open\"].iloc[1:],0.10)\n",
    "for_visualisation = test.iloc[1:]\n",
    "#minmax normalization\n",
    "vol = (test[\"Volume\"]-test[\"Volume\"].min())/(test[\"Volume\"].max()-test[\"Volume\"].min())\n",
    "percentvol = vol*100\n",
    "convolved = (test['Volume']-test['Volume'].shift(1))/test['Volume'].shift(1)\n",
    "convolved = convolved[1:]\n",
    "#bad because there is alot of days where the price didn't even move during the day\n",
    "#convolved_price = (test['Close']-test['Open'])/test['Open']\n",
    "#convolved_price = convolved_price[1:]\n",
    "convolved_price = (test['Open']-test['Open'].shift(1))/test['Open'].shift(1)\n",
    "convolved_price = convolved_price[1:]\n",
    "print(convolved.std(),len(for_visualisation))\n",
    "\"\"\"\n",
    "plt.plot(range(len(test.index)),test[\"Open\"])\n",
    "plt.plot(a,test[\"Open\"].iloc[a])\n",
    "plt.yscale(\"log\")\n",
    "plt.show()\n",
    "\"\"\""
   ],
   "metadata": {
    "collapsed": false,
    "pycharm": {
     "name": "#%%\n"
    }
   }
  },
  {
   "cell_type": "markdown",
   "source": [
    "Show points at which volume change is abnormal(1 std deviation below or above mean)"
   ],
   "metadata": {
    "collapsed": false
   }
  },
  {
   "cell_type": "code",
   "execution_count": 7,
   "outputs": [
    {
     "data": {
      "text/plain": "<Figure size 1080x576 with 2 Axes>",
      "image/png": "[encoded data removed]"
     },
     "metadata": {
      "needs_background": "light"
     },
     "output_type": "display_data"
    }
   ],
   "source": [
    "#print(a)\n",
    "plt.figure(figsize=(15,8))\n",
    "above = convolved>convolved.mean() + convolved.std()\n",
    "below = convolved<convolved.mean() - convolved.std()\n",
    "palette = [\"green\" if up else \"red\" if down else \"blue\" for up,down in zip(above,below)]\n",
    "ax = sns.lineplot(data = for_visualisation,x=\"Date\",y=\"Open\")\n",
    "ax.set(yscale='log')\n",
    "ax2 = ax.twinx()\n",
    "sns.lineplot(y = for_visualisation[\"Open\"].iloc[a],x=for_visualisation[\"Date\"].iloc[a],ax = ax, color='red' )\n",
    "#sns.lineplot()\n",
    "sns.barplot(data=for_visualisation,y = convolved*100 + 100, x=\"Date\",ax =ax2,palette=palette)\n",
    "#sns.barplot(data = for_visualisation[\"Volume\"],ax=ax2)\n",
    "plt.show()"
   ],
   "metadata": {
    "collapsed": false,
    "pycharm": {
     "name": "#%%\n"
    }
   }
  },
  {
   "cell_type": "markdown",
   "source": [
    "Return vs Volume Change"
   ],
   "metadata": {
    "collapsed": false
   }
  },
  {
   "cell_type": "code",
   "execution_count": 8,
   "outputs": [
    {
     "name": "stderr",
     "output_type": "stream",
     "text": [
      "/tmp/ipykernel_2035427/1706711689.py:10: UserWarning: Ignoring `palette` because no `hue` variable has been assigned.\n",
      "  ax = sns.lineplot(data = for_visualisation,x=\"Date\",y=convolved_price*10+10,palette=price_p)\n"
     ]
    },
    {
     "data": {
      "text/plain": "<Figure size 1080x576 with 2 Axes>",
      "image/png": "[encoded data removed]"
     },
     "metadata": {
      "needs_background": "light"
     },
     "output_type": "display_data"
    }
   ],
   "source": [
    "above = convolved>convolved.mean() + convolved.std()\n",
    "below = convolved<convolved.mean() - convolved.std()\n",
    "vol_p = [\"green\" if up else \"red\" if down else \"blue\" for up,down in zip(above,below)]\n",
    "\n",
    "above = convolved_price>convolved_price.mean() + convolved_price.std()\n",
    "below = convolved_price<convolved_price.mean() - convolved_price.std()\n",
    "price_p = [\"green\" if up else \"red\" if down else \"blue\" for up,down in zip(above,below)]\n",
    "\n",
    "plt.figure(figsize=(15,8))\n",
    "ax = sns.lineplot(data = for_visualisation,x=\"Date\",y=convolved_price*10+10,palette=price_p)\n",
    "ax.set(yscale='log')\n",
    "ax2 = ax.twinx()\n",
    "#sns.lineplot(y = for_visualisation[\"Open\"].iloc[a],x=for_visualisation[\"Date\"].iloc[a],ax = ax, color='red' )\n",
    "#sns.lineplot()\n",
    "sns.barplot(data=for_visualisation,y = convolved + 2, x=\"Date\",ax =ax,palette=vol_p)\n",
    "#sns.barplot(data = for_visualisation[\"Volume\"],ax=ax2)\n",
    "plt.show()"
   ],
   "metadata": {
    "collapsed": false,
    "pycharm": {
     "name": "#%%\n"
    }
   }
  },
  {
   "cell_type": "markdown",
   "source": [
    "Volume sliding window"
   ],
   "metadata": {
    "collapsed": false
   }
  },
  {
   "cell_type": "code",
   "execution_count": 9,
   "outputs": [
    {
     "name": "stdout",
     "output_type": "stream",
     "text": [
      "[1 3 4 4 4 3 4 5 5]\n"
     ]
    }
   ],
   "source": [
    "print(signal.medfilt(np.array([1,3,4,5,2,4,3,5,6]),3))"
   ],
   "metadata": {
    "collapsed": false,
    "pycharm": {
     "name": "#%%\n"
    }
   }
  },
  {
   "cell_type": "markdown",
   "source": [
    "Volume to price ratio"
   ],
   "metadata": {
    "collapsed": false
   }
  },
  {
   "cell_type": "code",
   "execution_count": 10,
   "outputs": [
    {
     "data": {
      "text/plain": "<Figure size 1080x576 with 0 Axes>"
     },
     "metadata": {},
     "output_type": "display_data"
    },
    {
     "data": {
      "text/plain": "<Figure size 1080x1080 with 2 Axes>",
      "image/png": "[encoded data removed]"
     },
     "metadata": {
      "needs_background": "light"
     },
     "output_type": "display_data"
    }
   ],
   "source": [
    "plt.figure(figsize=(15,8))\n",
    "fig,axs = plt.subplots(2,1,sharex=True,figsize=(15,15))\n",
    "ax = sns.lineplot(x = test[\"Date\"],y = test[\"Open\"],ax=axs[0],estimator=None)\n",
    "ax.set(yscale='log')\n",
    "sns.barplot(x= test[\"Date\"],y = test[\"Open\"]/test[\"Volume\"],ax = axs[1])\n",
    "plt.show()"
   ],
   "metadata": {
    "collapsed": false,
    "pycharm": {
     "name": "#%%\n"
    }
   }
  },
  {
   "cell_type": "markdown",
   "source": [
    "Volume change to price change ratio"
   ],
   "metadata": {
    "collapsed": false
   }
  },
  {
   "cell_type": "code",
   "execution_count": 29,
   "outputs": [],
   "source": [
    "#helper functions\n",
    "\n",
    "#needed because of some massive outliers\n",
    "def median_of_absolute_error_from_median(series: pd.Series) -> float:\n",
    "    \"\"\"\n",
    "    the name is self explanatory\n",
    "    :param series: series of which you want to calculate the metric\n",
    "    :return: metric\n",
    "    \"\"\"\n",
    "    median = series.median()\n",
    "    absolute_error = (median - series).abs()\n",
    "    return absolute_error.median()\n",
    "\n",
    "\n",
    "def nth_percent_from_median(series: pd.Series, n: float) -> float:\n",
    "    median = series.median()\n",
    "    absolute_error = (median - series).abs()\n",
    "    absolute_error.arg_sort\n",
    "    idx = math.round(len(series) * n)\n",
    "    return"
   ],
   "metadata": {
    "collapsed": false,
    "pycharm": {
     "name": "#%%\n"
    }
   }
  },
  {
   "cell_type": "code",
   "execution_count": 65,
   "outputs": [],
   "source": [
    "ratioed = convolved_price/convolved\n",
    "m_pos = ratioed != np.inf\n",
    "m_neg = ratioed != -np.inf\n",
    "max_non_inf = ratioed[m_pos].max()\n",
    "min_non_inf = ratioed[m_neg].min()\n",
    "ratioed = ratioed.replace(np.inf,max_non_inf)\n",
    "ratioed = ratioed.replace(-np.inf,min_non_inf)\n",
    "std = ratioed.std()\n",
    "mean = ratioed.mean()\n",
    "ratioed.clip(lower = ratioed.quantile(0.005), upper = ratioed.quantile(0.995), inplace = True)\n",
    "#print(,)"
   ],
   "metadata": {
    "collapsed": false,
    "pycharm": {
     "name": "#%%\n"
    }
   }
  },
  {
   "cell_type": "code",
   "execution_count": 30,
   "outputs": [
    {
     "name": "stdout",
     "output_type": "stream",
     "text": [
      "0.04670073555228545\n"
     ]
    }
   ],
   "source": [
    "\n",
    "print(median_of_absolute_error_from_median(ratioed))"
   ],
   "metadata": {
    "collapsed": false,
    "pycharm": {
     "name": "#%%\n"
    }
   }
  },
  {
   "cell_type": "code",
   "execution_count": 66,
   "outputs": [
    {
     "data": {
      "text/plain": "<AxesSubplot:ylabel='Count'>"
     },
     "execution_count": 66,
     "metadata": {},
     "output_type": "execute_result"
    },
    {
     "data": {
      "text/plain": "<Figure size 1080x576 with 1 Axes>",
      "image/png": "[encoded data removed]"
     },
     "metadata": {
      "needs_background": "light"
     },
     "output_type": "display_data"
    }
   ],
   "source": [
    "#plt.figure(figsize=(8,8))\n",
    "fig,ax = plt.subplots(figsize=(15,8))\n",
    "sns.histplot(x=ratioed,binwidth=0.01,ax=ax)"
   ],
   "metadata": {
    "collapsed": false,
    "pycharm": {
     "name": "#%%\n"
    }
   }
  },
  {
   "cell_type": "markdown",
   "source": [
    "Plot of Volume change to price ratio"
   ],
   "metadata": {
    "collapsed": false
   }
  },
  {
   "cell_type": "code",
   "execution_count": 67,
   "outputs": [
    {
     "data": {
      "text/plain": "<Figure size 1440x576 with 0 Axes>"
     },
     "metadata": {},
     "output_type": "display_data"
    },
    {
     "data": {
      "text/plain": "<Figure size 1080x1080 with 2 Axes>",
      "image/png": "[encoded data removed]"
     },
     "metadata": {
      "needs_background": "light"
     },
     "output_type": "display_data"
    }
   ],
   "source": [
    "plt.figure(figsize=(20,8))\n",
    "fig,axs = plt.subplots(2,1,sharex=True,figsize=(15,15))\n",
    "ax = sns.lineplot(x = for_visualisation[\"Date\"].iloc[:1000],y = for_visualisation[\"Open\"].iloc[:1000],ax=axs[0],estimator=None,n_boot=0)\n",
    "ax.set(yscale='log')\n",
    "sns.barplot(x= for_visualisation[\"Date\"].iloc[:1000],y = ratioed.iloc[:1000],ax = axs[1])\n",
    "plt.show()"
   ],
   "metadata": {
    "collapsed": false,
    "pycharm": {
     "name": "#%%\n"
    }
   }
  },
  {
   "cell_type": "markdown",
   "source": [
    "Damo v bool array za AUC racunat"
   ],
   "metadata": {
    "collapsed": false
   }
  },
  {
   "cell_type": "code",
   "execution_count": 11,
   "outputs": [],
   "source": [
    "def find_intersect_2_ordered_lists(list1,list2):\n",
    "    li2=li1=0\n",
    "    intersect = []\n",
    "    if list1 is None or list2 is None or len(list1) == 0 or len(list2)==0 :\n",
    "        return []\n",
    "    while True:\n",
    "        if list1[li1] == list2[li2]:\n",
    "            intersect.append(list1[li1])\n",
    "            li1 = li1 + 1\n",
    "            li2 = li2 + 1\n",
    "        elif list1[li1] < list2[li2]:\n",
    "            li1 = li1 + 1\n",
    "        else:\n",
    "            li2 = li2 + 1\n",
    "        if li1 == len(list1) or li2 == len(list2):\n",
    "            return intersect\n",
    "\n",
    "def all_true(truers):\n",
    "    ret = True\n",
    "    for j in truers:\n",
    "        if not j:\n",
    "            return False\n",
    "    return True\n",
    "\n",
    "def combine_lists(lists):\n",
    "    idxs = [0 for l in lists]\n",
    "    lens = [len(l) for l in lists]\n",
    "    comb = []\n",
    "    while True:\n",
    "        if all_true([l == k for (l,k) in zip(idxs,lens)]):\n",
    "            return comb\n",
    "        cur = idxs.index(min(idxs))\n"
   ],
   "metadata": {
    "collapsed": false,
    "pycharm": {
     "name": "#%%\n"
    }
   }
  },
  {
   "cell_type": "code",
   "execution_count": null,
   "outputs": [],
   "source": [
    "def simpleAUC(solution, index):\n",
    "    global metric, df, dfY, tick, percent\n",
    "\n",
    "\n",
    "    #solution = [retUP,volUP,retDW,volDW,priorRUp,priorVUp,priorRDW,priorVDW]\n",
    "    if solution[0] <= -1 or solution[1] <= -1  or solution[4] < 0 or solution[5] < 0 : #or solution[2] <= -1 or solution[3] <= -1 or solution[6] < 0 or solution[7] < 0\n",
    "        return -10000000000\n",
    "    retFUp = solution[0]\n",
    "    volFUp = solution[1]\n",
    "    #retFDown = solution[2]\n",
    "    #volFDown = solution[3]\n",
    "    fit = 0\n",
    "    lfRUp = list(df[tick][0][df[tick][0][\"return\"]>retFUp].index + math.floor(solution[4]))\n",
    "    #lfRDw = list(df[tick][0][df[tick][0][\"return\"]>retFDown].index + math.floor(solution[6]))\n",
    "    lfVUp = list(df[tick][0][df[tick][0][\"volume%\"]>volFUp].index + math.floor(solution[5]))\n",
    "    #lfVDw = list(df[tick][0][df[tick][0][\"volume%\"]>volFDown].index + math.floor(solution[7]))\n",
    "\n",
    "\n",
    "\n",
    "    res= pd.DataFrame(data=[False]*len(df[tick][0]))\n",
    "    up = list(find_intersect_2_ordered_lists(lfVUp,lfRUp))\n",
    "    cut = 0\n",
    "    for k in reversed(up):\n",
    "        if k < len(df[tick][0]):\n",
    "            break\n",
    "        else:\n",
    "            cut = cut+1\n",
    "    if cut > 0:\n",
    "        up = up[:-cut]\n",
    "    #down = #list(find_intersect_2_ordered_lists(lfVDw,lfRDw))\n",
    "    cut = 0\n",
    "\n",
    "    if cut > 0:\n",
    "        #down = down[:-cut]\n",
    "    if up is not None :\n",
    "        res.iloc[up] = True\n",
    "    #if down is not None :\n",
    "        #res.iloc[down] = True\n",
    "    #print(roc_auc_score(dfY[tick][percent][0],res))\n",
    "    return roc_auc_score(dfY[tick][percent][0],res)"
   ],
   "metadata": {
    "collapsed": false,
    "pycharm": {
     "name": "#%%\n"
    }
   }
  },
  {
   "cell_type": "code",
   "execution_count": 18,
   "outputs": [],
   "source": [
    "def fit_params_AUC(df,dfY,tick,percent):\n",
    "\n",
    "    def fit_me_AUC(solution, index):\n",
    "        #solution = [retUP,volUP,retDW,volDW,priorRUp,priorVUp,priorRDW,priorVDW]\n",
    "        if solution[0] <= -1 or solution[1] <= -1 or solution[2] <= -1 or solution[3] <= -1 or solution[4] < 0 or solution[5] < 0 or solution[6] < 0 or solution[7] < 0:\n",
    "            return -10000000000\n",
    "        retFUp = solution[0]\n",
    "        volFUp = solution[1]\n",
    "        retFDown = solution[2]\n",
    "        volFDown = solution[3]\n",
    "        fit = 0\n",
    "        lfRUp = list(df[tick][0][df[tick][0][\"return\"]>retFUp].index + math.floor(solution[4]))\n",
    "        lfRDw = list(df[tick][0][df[tick][0][\"return\"]>retFDown].index + math.floor(solution[6]))\n",
    "        lfVUp = list(df[tick][0][df[tick][0][\"volume%\"]>volFUp].index + math.floor(solution[5]))\n",
    "        lfVDw = list(df[tick][0][df[tick][0][\"volume%\"]>volFDown].index + math.floor(solution[7]))\n",
    "\n",
    "\n",
    "\n",
    "        res= pd.DataFrame(data=[False]*len(df[tick][0]))\n",
    "        up = list(find_intersect_2_ordered_lists(lfVUp,lfRUp))\n",
    "        cut = 0\n",
    "        for k in reversed(up):\n",
    "            if k < len(df[tick][0]):\n",
    "                break\n",
    "            else:\n",
    "                cut = cut+1\n",
    "        if cut > 0:\n",
    "            up = up[:-cut]\n",
    "        down = list(find_intersect_2_ordered_lists(lfVDw,lfRDw))\n",
    "        cut = 0\n",
    "        for k in reversed(down):\n",
    "            if k < len(df[tick][0]):\n",
    "                break\n",
    "            else:\n",
    "                cut = cut+1\n",
    "        if cut > 0:\n",
    "            down = down[:-cut]\n",
    "        if up is not None :\n",
    "            res.iloc[up] = True\n",
    "        if down is not None :\n",
    "            res.iloc[down] = True\n",
    "        #print(roc_auc_score(dfY[tick][percent][0],res))\n",
    "        return roc_auc_score(dfY[tick][percent][0],res)\n",
    "    return fit_me_AUC"
   ],
   "metadata": {
    "collapsed": false,
    "pycharm": {
     "name": "#%%\n"
    }
   }
  },
  {
   "cell_type": "code",
   "execution_count": 19,
   "outputs": [],
   "source": [
    "def fit_params_AUC_lagged(df,dfY,tick,percent,n_lagged = 1):\n",
    "    def fita(solution, index):\n",
    "        #solution = [retUP,volUP,retDW,volDW,priorRUp,priorVUp,priorRDW,priorVDW]\n",
    "        if solution[0] <= -1 or solution[1] <= -1 or solution[2] <= -1 or solution[3] <= -1 or solution[4] < 0 or solution[5] < 0 or solution[6] < 0 or solution[7] < 0:\n",
    "            return -10000000000\n",
    "        col = 'volume%'\n",
    "        if n_lagged == 5:\n",
    "            col = 'volume5%'\n",
    "        if n_lagged == 10:\n",
    "            col = 'volume10%'\n",
    "        if n_lagged == 15:\n",
    "            col = 'volume15%'\n",
    "        if n_lagged == 20:\n",
    "            col = 'volume20%'\n",
    "        retFUp = solution[0]\n",
    "        volFUp = solution[1]\n",
    "        retFDown = solution[2]\n",
    "        volFDown = solution[3]\n",
    "        fit = 0\n",
    "        lfRUp = list(df[tick][0][n_lagged-1:][df[tick][0][n_lagged-1:][\"return\"]>retFUp].index + math.floor(solution[4]))\n",
    "        lfRDw = list(df[tick][0][n_lagged-1:][df[tick][0][n_lagged-1:][\"return\"]>retFDown].index + math.floor(solution[6]))\n",
    "        lfVUp = list(df[tick][0][n_lagged-1:][df[tick][0][n_lagged-1:][col]>volFUp].index + math.floor(solution[5]))\n",
    "        lfVDw = list(df[tick][0][n_lagged-1:][df[tick][0][n_lagged-1:][col]>volFDown].index + math.floor(solution[7]))\n",
    "\n",
    "\n",
    "\n",
    "        res= pd.DataFrame(data=[False]*len(df[tick][0][n_lagged-1:]))\n",
    "        up = list(find_intersect_2_ordered_lists(lfVUp,lfRUp))\n",
    "        cut = 0\n",
    "        for k in reversed(up):\n",
    "            if k < len(df[tick][0][n_lagged-1:]):\n",
    "                break\n",
    "            else:\n",
    "                cut = cut+1\n",
    "        if cut > 0:\n",
    "            up = up[:-cut]\n",
    "        down = list(find_intersect_2_ordered_lists(lfVDw,lfRDw))\n",
    "        cut = 0\n",
    "        for k in reversed(down):\n",
    "            if k < len(df[tick][0][n_lagged-1:]):\n",
    "                break\n",
    "            else:\n",
    "                cut = cut+1\n",
    "        if cut > 0:\n",
    "            down = down[:-cut]\n",
    "        if up is not None :\n",
    "            res.iloc[up] = True\n",
    "        if down is not None :\n",
    "            res.iloc[down] = True\n",
    "        #print(roc_auc_score(dfY[tick][percent][0],res))\n",
    "        return roc_auc_score(dfY[tick][percent][0][n_lagged-1:],res)\n",
    "    return fita"
   ],
   "metadata": {
    "collapsed": false,
    "pycharm": {
     "name": "#%%\n"
    }
   }
  },
  {
   "cell_type": "code",
   "execution_count": 20,
   "outputs": [],
   "source": [
    "def fit_params_AUC_lagged_combinedOR(df,dfY,tick,percent,n_lagged = 20):\n",
    "    def fita(solution, index):\n",
    "        #24 genov\n",
    "        #solution = [retUP,volUP,vol5UP,vol10UP,vol15UP,vol20UP,retDW,volDW,vol5DW,vol10DW,vol15DW,vol20DW,priorRUp,priorVUp,priorvol5UP,priorvol10UP,priorvol15UP,priorvol20UP,priorRDW,priorVDW,priorvol5DW,priorvol10DW,priorvol15DW,priorvol20DW]\n",
    "        for ite in range(len(solution)):\n",
    "            if ite<12 and solution[ite] <= -1:\n",
    "                return -1\n",
    "            elif ite>=12 and solution[ite] < 0:\n",
    "                return -1\n",
    "        solution = [x[0] if hasattr(x,'__len__') else x for x in solution]\n",
    "        #print(solution)\n",
    "        col = 'volume%'\n",
    "        if n_lagged == 5:\n",
    "            col = 'volume5%'\n",
    "        if n_lagged == 10:\n",
    "            col = 'volume10%'\n",
    "        if n_lagged == 15:\n",
    "            col = 'volume15%'\n",
    "        if n_lagged == 20:\n",
    "            col = 'volume20%'\n",
    "        retFUp = solution[0]\n",
    "        volFUp = solution[1]\n",
    "        retFDown = solution[6]\n",
    "        volFDown = solution[7]\n",
    "        fit = 0\n",
    "        l_UP = []\n",
    "        l_DW = []\n",
    "        buildingblocksUP = []\n",
    "        buildingblocksDW = []\n",
    "        test = df[tick][0][n_lagged-1:]\n",
    "        up = test.loc[(test['return'].shift(math.floor(solution[12])) > solution[0]) |\n",
    "                      (test['volume%'].shift(math.floor(solution[13])) > solution[1]) |\n",
    "                       (test['volume5%'].shift(math.floor(solution[14])) > solution[2]) |\n",
    "                        (test['volume10%'].shift(math.floor(solution[15])) > solution[3]) |\n",
    "                         (test['volume15%'].shift(math.floor(solution[16])) > solution[4]) |\n",
    "                          (test['volume20%'].shift(math.floor(solution[17])) > solution[5])\n",
    "                        ].index\n",
    "        down = test.loc[(test['return'].shift(math.floor(solution[18])) > solution[6]) |\n",
    "        (test['volume%'].shift(math.floor(solution[19])) > solution[7]) |\n",
    "        (test['volume5%'].shift(math.floor(solution[20])) > solution[8]) |\n",
    "        (test['volume10%'].shift(math.floor(solution[21])) > solution[9]) |\n",
    "        (test['volume15%'].shift(math.floor(solution[22])) > solution[10]) |\n",
    "        (test['volume20%'].shift(math.floor(solution[23])) > solution[11])\n",
    "                        ].index\n",
    "\n",
    "\n",
    "        res= pd.DataFrame(data=[False]*len(df[tick][0][n_lagged-1:]))\n",
    "\n",
    "        cut = 0\n",
    "        for k in reversed(up):\n",
    "            if k < len(df[tick][0][n_lagged-1:]):\n",
    "                break\n",
    "            else:\n",
    "                cut = cut+1\n",
    "        if cut > 0:\n",
    "            up = up[:-cut]\n",
    "        #down = list(find_intersect_2_ordered_lists(lfVDw,lfRDw))\n",
    "        cut = 0\n",
    "        for k in reversed(down):\n",
    "            if k < len(df[tick][0][n_lagged-1:]):\n",
    "                break\n",
    "            else:\n",
    "                cut = cut+1\n",
    "        if cut > 0:\n",
    "            down = down[:-cut]\n",
    "        if up is not None :\n",
    "            res.iloc[up] = True\n",
    "        if down is not None :\n",
    "            res.iloc[down] = True\n",
    "        #print(roc_auc_score(dfY[tick][percent][0],res))\n",
    "        return roc_auc_score(dfY[tick][percent][0][n_lagged-1:],res)\n",
    "    return fita"
   ],
   "metadata": {
    "collapsed": false,
    "pycharm": {
     "name": "#%%\n"
    }
   }
  },
  {
   "cell_type": "code",
   "execution_count": 21,
   "outputs": [],
   "source": [
    "def fit_params_AUC_lagged_combinedOR_test(df,dfY,tick,percent,n_lagged = 20):\n",
    "    def fita(solution, index):\n",
    "        #24 genov\n",
    "        #solution = [retUP,volUP,vol5UP,vol10UP,vol15UP,vol20UP,retDW,volDW,vol5DW,vol10DW,vol15DW,vol20DW,priorRUp,priorVUp,priorvol5UP,priorvol10UP,priorvol15UP,priorvol20UP,priorRDW,priorVDW,priorvol5DW,priorvol10DW,priorvol15DW,priorvol20DW]\n",
    "        for ite in range(len(solution)):\n",
    "            if ite<12 and solution[ite] <= -1:\n",
    "                return -1\n",
    "            elif ite>=12 and solution[ite] < 0:\n",
    "                return -1\n",
    "        solution = [x[0] if hasattr(x,'__len__') else x for x in solution]\n",
    "        #print(solution)\n",
    "        col = 'volume%'\n",
    "        if n_lagged == 5:\n",
    "            col = 'volume5%'\n",
    "        if n_lagged == 10:\n",
    "            col = 'volume10%'\n",
    "        if n_lagged == 15:\n",
    "            col = 'volume15%'\n",
    "        if n_lagged == 20:\n",
    "            col = 'volume20%'\n",
    "        retFUp = solution[0]\n",
    "        volFUp = solution[1]\n",
    "        retFDown = solution[6]\n",
    "        volFDown = solution[7]\n",
    "        fit = 0\n",
    "        l_UP = []\n",
    "        l_DW = []\n",
    "        buildingblocksUP = []\n",
    "        buildingblocksDW = []\n",
    "        test = df[tick][1][n_lagged-1:]\n",
    "        up = test.loc[(test['return'].shift(math.floor(solution[12])) > solution[0]) |\n",
    "                      (test['volume%'].shift(math.floor(solution[13])) > solution[1]) |\n",
    "                       (test['volume5%'].shift(math.floor(solution[14])) > solution[2]) |\n",
    "                        (test['volume10%'].shift(math.floor(solution[15])) > solution[3]) |\n",
    "                         (test['volume15%'].shift(math.floor(solution[16])) > solution[4]) |\n",
    "                          (test['volume20%'].shift(math.floor(solution[17])) > solution[5])\n",
    "                        ].index\n",
    "        down = test.loc[(test['return'].shift(math.floor(solution[18])) > solution[6]) |\n",
    "        (test['volume%'].shift(math.floor(solution[19])) > solution[7]) |\n",
    "        (test['volume5%'].shift(math.floor(solution[20])) > solution[8]) |\n",
    "        (test['volume10%'].shift(math.floor(solution[21])) > solution[9]) |\n",
    "        (test['volume15%'].shift(math.floor(solution[22])) > solution[10]) |\n",
    "        (test['volume20%'].shift(math.floor(solution[23])) > solution[11])\n",
    "                        ].index\n",
    "\n",
    "\n",
    "        res= pd.DataFrame(data=[False]*len(df[tick][1][n_lagged-1:]))\n",
    "\n",
    "        cut = 0\n",
    "        for k in reversed(up):\n",
    "            if k < len(df[tick][1][n_lagged-1:]):\n",
    "                break\n",
    "            else:\n",
    "                cut = cut+1\n",
    "        if cut > 0:\n",
    "            up = up[:-cut]\n",
    "        #down = list(find_intersect_2_ordered_lists(lfVDw,lfRDw))\n",
    "        cut = 0\n",
    "        for k in reversed(down):\n",
    "            if k < len(df[tick][1][n_lagged-1:]):\n",
    "                break\n",
    "            else:\n",
    "                cut = cut+1\n",
    "        if cut > 0:\n",
    "            down = down[:-cut]\n",
    "        if up is not None :\n",
    "            res.iloc[up] = True\n",
    "        if down is not None :\n",
    "            res.iloc[down] = True\n",
    "        #print(roc_auc_score(dfY[tick][percent][0],res))\n",
    "        return roc_auc_score(dfY[tick][percent][1][n_lagged-1:],res)\n",
    "    return fita"
   ],
   "metadata": {
    "collapsed": false,
    "pycharm": {
     "name": "#%%\n"
    }
   }
  },
  {
   "cell_type": "code",
   "execution_count": 22,
   "outputs": [],
   "source": [
    "def fit_me10_all(solution,index):\n",
    "    #solution = [retUP,volUP,retDW,volDW,priorRUp,priorVUp,priorRDW,priorVDW]\n",
    "    if solution[0] <= -1 or solution[1] <= -1 or solution[2] <= -1 or solution[3] <= -1 or solution[4] < 0 or solution[5] < 0 or solution[6] < 0 or solution[7] < 0:\n",
    "        return -10000000000\n",
    "    #dodal bomo še kako se filtre združuje skupi z or ali and!\n",
    "\n",
    "    retFUp = solution[0]\n",
    "    volFUp = solution[1]\n",
    "    retFDown = solution[2]\n",
    "    volFDown = solution[3]\n",
    "    fit = 0\n",
    "    #print(solution.dtype)\n",
    "    #nima smisla da je en pred pivotom za vrh manjši kot za dolino saj more bit return change negativen za dolino in pozitiven za vrh\n",
    "    if retFUp<= retFDown:\n",
    "        return -10000000000\n",
    "    for tick in splits25:\n",
    "        #ret filter\n",
    "        #lahko še naredimo da je variable kolk prej rab se zgodit filter\n",
    "\n",
    "        lfRUp = list(splits25[tick][0][splits25[tick][0][\"return\"]>retFUp].index + math.floor(solution[4]))\n",
    "        lfRDw = list(splits25[tick][0][splits25[tick][0][\"return\"]>retFDown].index + math.floor(solution[6]))\n",
    "        lfVUp = list(splits25[tick][0][splits25[tick][0][\"volume%\"]>volFUp].index + math.floor(solution[5]))\n",
    "        lfVDw = list(splits25[tick][0][splits25[tick][0][\"volume%\"]>volFDown].index + math.floor(solution[7]))\n",
    "        #print(len(lfRUp),len(lfRDw),len(lfVUp),len(lfVDw))\n",
    "        up = set(find_intersect_2_ordered_lists(lfVUp,lfRUp))\n",
    "        down = set(find_intersect_2_ordered_lists(lfVDw,lfRDw))\n",
    "        comb = list(up.union(down)).sort()\n",
    "\n",
    "\n",
    "        zadetkov = len(find_intersect_2_ordered_lists(comb,ticker400_trend10[tick]))\n",
    "        zgresenih = (len(comb) if comb else 0 )- zadetkov\n",
    "        if comb is None:\n",
    "            fit = fit -100000\n",
    "        else:\n",
    "            fit = fit + zadetkov - zgresenih\n",
    "\n",
    "    return fit\n"
   ],
   "metadata": {
    "collapsed": false,
    "pycharm": {
     "name": "#%%\n"
    }
   }
  },
  {
   "cell_type": "code",
   "execution_count": 23,
   "outputs": [],
   "source": [
    "def fit_params_AUC_lagged_combined_special(df,dfY,tick,percent,n_lagged = 20):\n",
    "    def fita(solution, index):\n",
    "        #24 genov\n",
    "        #solution = [retUP,volUP,vol5UP,vol10UP,vol15UP,vol20UP,retDW,volDW,vol5DW,vol10DW,vol15DW,vol20DW,priorRUp,priorVUp,priorvol5UP,priorvol10UP,priorvol15UP,priorvol20UP,priorRDW,priorVDW,priorvol5DW,priorvol10DW,priorvol15DW,priorvol20DW,posR,pos1,pos5,pos10,pos15,pos20,posRD,pos1D,pos5D,pos10D,pos15D,pos20D,con1,con2,con3,con4,con5,cond1,cond2,cond3,cond4,cond5,skupi]\n",
    "        for ite in range(len(solution)):\n",
    "            if ite<12 and solution[ite] <= -1:\n",
    "                return -1\n",
    "            elif ite>=12 and solution[ite] < 0:\n",
    "                return -1\n",
    "        solution = [x[0] if hasattr(x,'__len__') else x for x in solution]\n",
    "        #print(solution)\n",
    "        col = 'volume%'\n",
    "        if n_lagged == 5:\n",
    "            col = 'volume5%'\n",
    "        if n_lagged == 10:\n",
    "            col = 'volume10%'\n",
    "        if n_lagged == 15:\n",
    "            col = 'volume15%'\n",
    "        if n_lagged == 20:\n",
    "            col = 'volume20%'\n",
    "        retFUp = solution[0]\n",
    "        volFUp = solution[1]\n",
    "        retFDown = solution[6]\n",
    "        volFDown = solution[7]\n",
    "        fit = 0\n",
    "        l_UP = []\n",
    "        l_DW = []\n",
    "        buildingblocksUP = []\n",
    "        buildingblocksDW = []\n",
    "        test = df[tick][1][n_lagged-1:]\n",
    "        up = test.loc[(test['return'].shift(math.floor(solution[12])) > solution[0]) |\n",
    "                      (test['volume%'].shift(math.floor(solution[13])) > solution[1]) |\n",
    "                       (test['volume5%'].shift(math.floor(solution[14])) > solution[2]) |\n",
    "                        (test['volume10%'].shift(math.floor(solution[15])) > solution[3]) |\n",
    "                         (test['volume15%'].shift(math.floor(solution[16])) > solution[4]) |\n",
    "                          (test['volume20%'].shift(math.floor(solution[17])) > solution[5])\n",
    "                        ].index\n",
    "        down = test.loc[(test['return'].shift(math.floor(solution[18])) > solution[6]) |\n",
    "        (test['volume%'].shift(math.floor(solution[19])) > solution[7]) |\n",
    "        (test['volume5%'].shift(math.floor(solution[20])) > solution[8]) |\n",
    "        (test['volume10%'].shift(math.floor(solution[21])) > solution[9]) |\n",
    "        (test['volume15%'].shift(math.floor(solution[22])) > solution[10]) |\n",
    "        (test['volume20%'].shift(math.floor(solution[23])) > solution[11])\n",
    "                        ].index\n",
    "\n",
    "\n",
    "        res= pd.DataFrame(data=[False]*len(df[tick][1][n_lagged-1:]))\n",
    "\n",
    "        cut = 0\n",
    "        for k in reversed(up):\n",
    "            if k < len(df[tick][1][n_lagged-1:]):\n",
    "                break\n",
    "            else:\n",
    "                cut = cut+1\n",
    "        if cut > 0:\n",
    "            up = up[:-cut]\n",
    "        #down = list(find_intersect_2_ordered_lists(lfVDw,lfRDw))\n",
    "        cut = 0\n",
    "        for k in reversed(down):\n",
    "            if k < len(df[tick][1][n_lagged-1:]):\n",
    "                break\n",
    "            else:\n",
    "                cut = cut+1\n",
    "        if cut > 0:\n",
    "            down = down[:-cut]\n",
    "        if up is not None :\n",
    "            res.iloc[up] = True\n",
    "        if down is not None :\n",
    "            res.iloc[down] = True\n",
    "        #print(roc_auc_score(dfY[tick][percent][0],res))\n",
    "        return roc_auc_score(dfY[tick][percent][1][n_lagged-1:],res)\n",
    "    return fita"
   ],
   "metadata": {
    "collapsed": false,
    "pycharm": {
     "name": "#%%\n"
    }
   }
  },
  {
   "cell_type": "markdown",
   "source": [
    "## Ugotovitve\n",
    "- zmanjšat mormo število tickerjev ker je zadeva čist prepočasna\n",
    "- statičn velik preskok ne naredi velik"
   ],
   "metadata": {
    "collapsed": false
   }
  },
  {
   "cell_type": "markdown",
   "source": [
    "change the metrix so it looks for values close by:\n",
    "-if its within leeway% of the pivot it should count as a hit with a bit of a penalty\n",
    "-if there are multiple within leeway% of the pivot only the closest should count"
   ],
   "metadata": {
    "collapsed": false
   }
  },
  {
   "cell_type": "code",
   "execution_count": 32,
   "outputs": [],
   "source": [
    "def metric_based_on_pool(pivots: list, pivots_gd: list, opens: pd.DataFrame, leeway: float = 0.03, penalty: float = 0.01) -> float:\n",
    "    \"\"\"\n",
    "    Calculates metric based on best close pivot to ground truth pivot\n",
    "    :param pivots: pivots given by model\n",
    "    :param pivots_gd: ground truth pivots\n",
    "    :param opens: stocks opens history\n",
    "    :param leeway: percentage allowed for pivot missing the gorund truth pivot(based of model pivot)\n",
    "    :param penalty: penalty for completely missing\n",
    "    :return: overall score\n",
    "    \"\"\"\n",
    "    it = 0\n",
    "    firsto = True\n",
    "    best_score = 0\n",
    "    overall = 0\n",
    "    i = 0\n",
    "    #print(\"pivots\",len(pivots))\n",
    "    #print(pivots_gd)\n",
    "    #print(len(opens))\n",
    "    #init pivots\n",
    "\n",
    "    for i in range(len(pivots)):\n",
    "        if pivots[i] >= pivots_gd[0]:\n",
    "            # we have arrived\n",
    "            break\n",
    "        else:\n",
    "            if leeway >= abs(opens.iloc[pivots[i]] - opens.iloc[pivots_gd[0]])/opens.iloc[pivots_gd[0]]:\n",
    "                if best_score < 1 - abs(opens.iloc[i] - opens.iloc[pivots_gd[0]])/opens.iloc[pivots_gd[0]]:\n",
    "                    best_score = 1 - abs(opens.iloc[i] - opens.iloc[pivots_gd[0]])/opens.iloc[pivots_gd[0]]\n",
    "    \n",
    "    for p in pivots[i:]:\n",
    "        ##print(overall)\n",
    "        try:\n",
    "            if it + 1 < len(pivots_gd) and pivots_gd[it] <= p < pivots_gd[it+1]:\n",
    "                # do_sth\n",
    "                if leeway >= abs(opens.iloc[p] - opens.iloc[pivots_gd[it]])/opens.iloc[pivots_gd[it]]:\n",
    "                    #print(\"uno\")\n",
    "                    if firsto and best_score < 1 - abs(opens.iloc[p] - opens.iloc[pivots_gd[it]])/opens.iloc[pivots_gd[it]]:\n",
    "                        best_score = 1 - abs(opens.iloc[p] - opens.iloc[pivots_gd[it]])/opens.iloc[pivots_gd[it]]\n",
    "                    elif not firsto:\n",
    "                        overall = overall + best_score\n",
    "                        best_score = 1 - abs(opens.iloc[p] - opens.iloc[pivots_gd[it]])/opens.iloc[pivots_gd[it]]\n",
    "                        firsto = True\n",
    "\n",
    "                elif abs(opens.iloc[p] - opens.iloc[pivots_gd[it+1]])/opens.iloc[pivots_gd[it+1]] <= leeway:\n",
    "                    #print(\"dos\")\n",
    "                    if firsto:\n",
    "                        overall = overall + best_score\n",
    "                        best_score =  1 - abs(opens.iloc[p] - opens.iloc[pivots_gd[it+1]])/opens.iloc[pivots_gd[it+1]]\n",
    "                        firsto = False\n",
    "                    elif not firsto and best_score < 1 - abs(opens.iloc[p] - opens.iloc[pivots_gd[it+1]])/opens.iloc[pivots_gd[it+1]]:\n",
    "                        best_score = 1 - abs(opens.iloc[p] - opens.iloc[pivots_gd[it+1]])/opens.iloc[pivots_gd[it+1]]\n",
    "                else:\n",
    "                    #print(\"hiya\")\n",
    "                    overall = overall - penalty\n",
    "            elif pivots_gd[-1] <= p < len(opens):\n",
    "                #print(\"uno12\")\n",
    "                # do_sth\n",
    "                if abs(opens.iloc[p] - opens.iloc[pivots_gd[it]])/opens.iloc[pivots_gd[it]] <= leeway:\n",
    "                    #print(\"uno1\")\n",
    "                    if leeway >= abs(opens.iloc[p] - opens.iloc[pivots_gd[it]])/opens.iloc[pivots_gd[it]]:\n",
    "                        if firsto and best_score < 1 - abs(opens.iloc[p] - opens.iloc[pivots_gd[it]])/opens.iloc[pivots_gd[it]]:\n",
    "                            best_score = 1 - abs(opens.iloc[p] - opens.iloc[pivots_gd[it]])/opens.iloc[pivots_gd[it]]\n",
    "                        elif not firsto:\n",
    "                            overall = overall + best_score\n",
    "                            best_score = 1 - abs(opens.iloc[p] - opens.iloc[pivots_gd[it]])/opens.iloc[pivots_gd[it]]\n",
    "                            firsto = True\n",
    "\n",
    "                    elif abs(opens.iloc[pivots_gd[it+1]] - opens.iloc[p])/opens.iloc[p] <= leeway:\n",
    "                        if firsto:\n",
    "                            overall = overall + best_score\n",
    "                            best_score =  1 - abs(opens.iloc[pivots_gd[it+1]] - opens.iloc[p])/opens.iloc[p]\n",
    "                            firsto = False\n",
    "                        elif not firsto and best_score < 1 - abs(opens.iloc[pivots_gd[it+1]] - opens.iloc[p])/opens.iloc[p]:\n",
    "                            best_score = 1 - abs(opens.iloc[pivots_gd[it+1]] - opens.iloc[p])/opens.iloc[p]\n",
    "                    else:\n",
    "                        #print(\"hiya\")\n",
    "                        overall = overall - penalty\n",
    "            else:\n",
    "                # fix pivots\n",
    "\n",
    "                for it in range(it,len(pivots_gd)-1):\n",
    "                    #print(it)\n",
    "                    if pivots_gd[it] <= p < pivots_gd[it+1]:\n",
    "                        #print(\"yes\")\n",
    "                        if leeway >= abs(opens.iloc[p] - opens.iloc[pivots_gd[it]])/opens.iloc[pivots_gd[it]]:\n",
    "                            #print(\"huh?\")\n",
    "                            if firsto and best_score < 1 - abs(opens.iloc[p] - opens.iloc[pivots_gd[it]])/opens.iloc[pivots_gd[it]]:\n",
    "                                best_score = 1 - abs(opens.iloc[p] - opens.iloc[pivots_gd[it]])/opens.iloc[pivots_gd[it]]\n",
    "                            elif not firsto:\n",
    "                                overall = overall + best_score\n",
    "                                best_score = 1 - abs(opens.iloc[p] - opens.iloc[pivots_gd[it]])/opens.iloc[pivots_gd[it]]\n",
    "                                firsto = True\n",
    "\n",
    "                        elif abs(opens.iloc[p] - opens.iloc[pivots_gd[it+1]])/opens.iloc[pivots_gd[it+1]] <= leeway:\n",
    "                            #print(\"nuuh\")\n",
    "                            if firsto:\n",
    "                                overall = overall + best_score\n",
    "                                best_score =  1 - abs(opens.iloc[p] - opens.iloc[pivots_gd[it+1]])/opens.iloc[pivots_gd[it+1]]\n",
    "                                firsto = False\n",
    "                            elif not firsto and best_score < 1 - abs(opens.iloc[p] - opens.iloc[pivots_gd[it+1]])/opens.iloc[pivots_gd[it+1]]:\n",
    "                                best_score = 1 - abs(opens.iloc[p] - opens.iloc[pivots_gd[it+1]])/opens.iloc[pivots_gd[it+1]]\n",
    "                        else:\n",
    "                            #print(\"hiya\")\n",
    "                            overall = overall - penalty\n",
    "                        break\n",
    "                    elif pivots_gd[-1] <= p < len(opens):\n",
    "                        if abs(opens.iloc[p] - opens.iloc[pivots_gd[it]])/opens.iloc[pivots_gd[it]] <= leeway:\n",
    "\n",
    "                            if leeway >= abs(opens.iloc[p] - opens.iloc[pivots_gd[it]])/opens.iloc[pivots_gd[it]]:\n",
    "                                if firsto and best_score < 1 - abs(opens.iloc[p] - opens.iloc[pivots_gd[it]])/opens.iloc[pivots_gd[it]]:\n",
    "                                    best_score = 1 - abs(opens.iloc[p] - opens.iloc[pivots_gd[it]])/opens.iloc[pivots_gd[it]]\n",
    "                                elif not firsto:\n",
    "                                    overall = overall + best_score\n",
    "                                    best_score = 1 - abs(opens.iloc[p] - opens.iloc[pivots_gd[it]])/opens.iloc[pivots_gd[it]]\n",
    "                                    firsto = True\n",
    "\n",
    "                            elif abs(opens.iloc[pivots_gd[it+1]] - opens.iloc[p])/opens.iloc[p] <= leeway:\n",
    "                                if firsto:\n",
    "                                    overall = overall + best_score\n",
    "                                    best_score =  1 - abs(opens.iloc[pivots_gd[it+1]] - opens.iloc[p])/opens.iloc[p]\n",
    "                                    firsto = False\n",
    "                                elif not firsto and best_score < 1 - abs(opens.iloc[pivots_gd[it+1]] - opens.iloc[p])/opens.iloc[p]:\n",
    "                                    best_score = 1 - abs(opens.iloc[pivots_gd[it+1]] - opens.iloc[p])/opens.iloc[p]\n",
    "                            else:\n",
    "                                overall = overall - penalty\n",
    "        except IndexError:\n",
    "            print(\"Error: \", pivots_gd[it+1],\" wew \",len(opens)-1)\n",
    "    return overall"
   ],
   "metadata": {
    "collapsed": false,
    "pycharm": {
     "name": "#%%\n"
    }
   }
  },
  {
   "cell_type": "markdown",
   "source": [
    "testing new metric"
   ],
   "metadata": {
    "collapsed": false
   }
  },
  {
   "cell_type": "code",
   "execution_count": 33,
   "outputs": [],
   "source": [
    "def fit_params_AUC_lagged_combined_special(df,dfY,tick,percent,n_lagged = 20,sty=0,metric=roc_auc_score, beta = -1):\n",
    "    def fita(solution, index):\n",
    "        #47 genov\n",
    "        #solution = [retUP,volUP,vol5UP,vol10UP,vol15UP,vol20UP,retDW,volDW,vol5DW,vol10DW,vol15DW,vol20DW,priorRUp,priorVUp,priorvol5UP,priorvol10UP,priorvol15UP,priorvol20UP,priorRDW,priorVDW,priorvol5DW,priorvol10DW,priorvol15DW,priorvol20DW,posR,pos1,pos5,pos10,pos15,pos20,posRD,pos1D,pos5D,pos10D,pos15D,pos20D,con1,con2,con3,con4,con5,cond1,cond2,cond3,cond4,cond5,skupi]\n",
    "\n",
    "        ####TRANSLATE TO POS ARGS####\n",
    "        posu = [-1]*6\n",
    "        posd = [-1]*6\n",
    "        start = 0\n",
    "        for i in solution[24:30]:\n",
    "            if i not in posu:\n",
    "                posu[start] = i\n",
    "            start = start + 1\n",
    "        start = 0\n",
    "        for i in solution[30:36]:\n",
    "            if i not in posd:\n",
    "                posd[start] = i\n",
    "            start = start + 1\n",
    "        start = 0\n",
    "        last = 0\n",
    "        for i in posu:\n",
    "            if i == -1:\n",
    "                for last in range(last,6):\n",
    "                    if last not in posu:\n",
    "                        posu[start] = last\n",
    "                        break\n",
    "            start = start + 1\n",
    "        start = 0\n",
    "        last = 0\n",
    "        for i in posd:\n",
    "            if i == -1:\n",
    "                for last in range(last,6):\n",
    "                    if last not in posd:\n",
    "                        posd[start] = last\n",
    "                        break\n",
    "            start = start + 1\n",
    "\n",
    "        #############################\n",
    "\n",
    "        for ite in range(len(solution)):\n",
    "            if ite<12 and solution[ite] <= -1:\n",
    "                return -1\n",
    "            elif ite>=12 and solution[ite] < 0:\n",
    "                return -1\n",
    "        solution = [x[0] if hasattr(x,'__len__') else x for x in solution]\n",
    "        test = df[tick][0][n_lagged-1:]\n",
    "\n",
    "        ############QUERY SPEED TEST##############\n",
    "        col_names = ['return_sh','vol_sh','vol5_sh','vol10_sh','vol15_sh','vol20_sh']\n",
    "        test['return_sh'] = test['return'].shift( (solution[12]))\n",
    "        test['vol_sh'] = test['volume%'].shift( (solution[13]))\n",
    "        test['vol5_sh'] = test['volume5%'].shift( (solution[14]))\n",
    "        test['vol10_sh'] = test['volume10%'].shift( (solution[15]))\n",
    "        test['vol15_sh'] = test['volume15%'].shift( (solution[16]))\n",
    "        test['vol20_sh'] = test['volume20%'].shift( (solution[17]))\n",
    "        test = test.reset_index()\n",
    "\n",
    "        u0 = ' | ' if solution[36] else ' & '\n",
    "        u1 = ' | ' if solution[37] else ' & '\n",
    "        u2 = ' | ' if solution[38] else ' & '\n",
    "        u3 = ' | ' if solution[39] else ' & '\n",
    "        u4 = ' | ' if solution[40] else ' & '\n",
    "\n",
    "        connec = ' | ' if solution[-1] else ' & '\n",
    "\n",
    "        d0 = ' | ' if solution[41] else ' & '\n",
    "        d1 = ' | ' if solution[42] else ' & '\n",
    "        d2 = ' | ' if solution[43] else ' & '\n",
    "        d3 = ' | ' if solution[44] else ' & '\n",
    "        d4 = ' | ' if solution[45] else ' & '\n",
    "        q = ('(' +col_names[posu[0]] + ' > ' + str(solution[posu[0]]) + u0 +\n",
    "            '(' +col_names[posu[1]] + ' > ' + str(solution[posu[1]]) + u1 +\n",
    "            '(' +col_names[posu[2]] + ' > ' + str(solution[posu[2]]) + u2 +\n",
    "            '(' +col_names[posu[3]] + ' > ' + str(solution[posu[3]]) + u3 +\n",
    "            '(' +col_names[posu[4]] + ' > ' + str(solution[posu[4]]) + u4 +\n",
    "            '(' +col_names[posu[5]] + ' > ' + str(solution[posu[5]]) + '))))))' +\n",
    "            connec +\n",
    "            '(' +col_names[posd[0]] + ' < ' + str(solution[posd[0]]) + d0 +\n",
    "            '(' +col_names[posd[1]] + ' < ' + str(solution[posd[1]]) + d1 +\n",
    "            '(' +col_names[posd[2]] + ' < ' + str(solution[posd[2]]) + d2 +\n",
    "            '(' +col_names[posd[3]] + ' < ' + str(solution[posd[3]]) + d3 +\n",
    "            '(' +col_names[posd[4]] + ' < ' + str(solution[posd[4]]) + d4 +\n",
    "            '(' +col_names[posd[5]] + ' < ' + str(solution[posd[5]]) + '))))))')\n",
    "\n",
    "\n",
    "        up = test.query(q).index\n",
    "\n",
    "        res = np.array([False]*len(test))\n",
    "        res[up] =True\n",
    "\n",
    "        if beta > 0:\n",
    "            return metric(dfY[tick][percent][0][n_lagged-1:],res,beta=beta)\n",
    "        if beta == -1:\n",
    "            return metric(up,dfY[tick][percent][0][n_lagged-1:].index[dfY[tick][percent][0][0][n_lagged-1:] == True].tolist(), opens = df[tick][0][n_lagged-1:][\"open\"])\n",
    "        return metric(dfY[tick][percent][0][n_lagged-1:],res)\n",
    "    return fita"
   ],
   "metadata": {
    "collapsed": false,
    "pycharm": {
     "name": "#%%\n"
    }
   }
  },
  {
   "cell_type": "markdown",
   "source": [
    "Playing with multiproccessing\n"
   ],
   "metadata": {
    "collapsed": false
   }
  },
  {
   "cell_type": "code",
   "execution_count": 34,
   "outputs": [],
   "source": [
    "def one_iteration(df,dfY,percent, ticker, solution, n_lagged = 20,metric=metric_based_on_pool, beta = -1):\n",
    "    metric_res = 0\n",
    "    for t in ticker:\n",
    "        posu = [-1]*6\n",
    "        posd = [-1]*6\n",
    "        start = 0\n",
    "        for i in solution[24:30]:\n",
    "            if i not in posu:\n",
    "                posu[start] = i\n",
    "            start = start + 1\n",
    "        start = 0\n",
    "        for i in solution[30:36]:\n",
    "            if i not in posd:\n",
    "                posd[start] = i\n",
    "            start = start + 1\n",
    "        start = 0\n",
    "        last = 0\n",
    "        for i in posu:\n",
    "            if i == -1:\n",
    "                for last in range(last,6):\n",
    "                    if last not in posu:\n",
    "                        posu[start] = last\n",
    "                        break\n",
    "            start = start + 1\n",
    "        start = 0\n",
    "        last = 0\n",
    "        for i in posd:\n",
    "            if i == -1:\n",
    "                for last in range(last,6):\n",
    "                    if last not in posd:\n",
    "                        posd[start] = last\n",
    "                        break\n",
    "            start = start + 1\n",
    "\n",
    "        #############################\n",
    "\n",
    "        for ite in range(len(solution)):\n",
    "            if ite<12 and solution[ite] <= -1:\n",
    "                return -1\n",
    "            elif ite>=12 and solution[ite] < 0:\n",
    "                return -1\n",
    "        solution = [x[0] if hasattr(x,'__len__') else x for x in solution]\n",
    "        test = df[t][0][n_lagged-1:]\n",
    "\n",
    "        ############QUERY SPEED TEST##############\n",
    "        col_names = ['return_sh','vol_sh','vol5_sh','vol10_sh','vol15_sh','vol20_sh']\n",
    "        test['return_sh'] = test['return'].shift( (solution[12]))\n",
    "        test['vol_sh'] = test['volume%'].shift( (solution[13]))\n",
    "        test['vol5_sh'] = test['volume5%'].shift( (solution[14]))\n",
    "        test['vol10_sh'] = test['volume10%'].shift( (solution[15]))\n",
    "        test['vol15_sh'] = test['volume15%'].shift( (solution[16]))\n",
    "        test['vol20_sh'] = test['volume20%'].shift( (solution[17]))\n",
    "        test = test.reset_index()\n",
    "\n",
    "        u0 = ' | ' if solution[36] else ' & '\n",
    "        u1 = ' | ' if solution[37] else ' & '\n",
    "        u2 = ' | ' if solution[38] else ' & '\n",
    "        u3 = ' | ' if solution[39] else ' & '\n",
    "        u4 = ' | ' if solution[40] else ' & '\n",
    "\n",
    "        connec = ' | ' if solution[-1] else ' & '\n",
    "\n",
    "        d0 = ' | ' if solution[41] else ' & '\n",
    "        d1 = ' | ' if solution[42] else ' & '\n",
    "        d2 = ' | ' if solution[43] else ' & '\n",
    "        d3 = ' | ' if solution[44] else ' & '\n",
    "        d4 = ' | ' if solution[45] else ' & '\n",
    "        q = ('(' +col_names[posu[0]] + ' > ' + str(solution[posu[0]]) + u0 +\n",
    "            '(' +col_names[posu[1]] + ' > ' + str(solution[posu[1]]) + u1 +\n",
    "            '(' +col_names[posu[2]] + ' > ' + str(solution[posu[2]]) + u2 +\n",
    "            '(' +col_names[posu[3]] + ' > ' + str(solution[posu[3]]) + u3 +\n",
    "            '(' +col_names[posu[4]] + ' > ' + str(solution[posu[4]]) + u4 +\n",
    "            '(' +col_names[posu[5]] + ' > ' + str(solution[posu[5]]) + '))))))' +\n",
    "            connec +\n",
    "            '(' +col_names[posd[0]] + ' < ' + str(solution[posd[0]]) + d0 +\n",
    "            '(' +col_names[posd[1]] + ' < ' + str(solution[posd[1]]) + d1 +\n",
    "            '(' +col_names[posd[2]] + ' < ' + str(solution[posd[2]]) + d2 +\n",
    "            '(' +col_names[posd[3]] + ' < ' + str(solution[posd[3]]) + d3 +\n",
    "            '(' +col_names[posd[4]] + ' < ' + str(solution[posd[4]]) + d4 +\n",
    "            '(' +col_names[posd[5]] + ' < ' + str(solution[posd[5]]) + '))))))')\n",
    "\n",
    "\n",
    "        up = test.query(q).index\n",
    "\n",
    "        res = np.array([False]*len(test))\n",
    "        res[up] =True\n",
    "        #print(len(res))\n",
    "        if beta > 0:\n",
    "            metric_res = metric_res + metric(dfY[t][percent][0][n_lagged-1:],res,beta=beta)\n",
    "        elif beta == -1:\n",
    "\n",
    "            #print(\"Hello: \",len(dfY[t][percent][0][0]),len(res))\n",
    "            compareY = dfY[t][percent][0][0][n_lagged-1:]\n",
    "            compareY = compareY.reset_index()\n",
    "            #beta_neg = beta_neg + metric(up,compareY.index[compareY[0] == True].tolist(), opens = test[\"open\"])\n",
    "            metric_res = metric_res + metric(up,compareY.index[compareY[0] == True].tolist(), opens = test[\"open\"])\n",
    "        else:\n",
    "            metric_res = metric_res + metric(dfY[t][percent][0][n_lagged-1:],res)\n",
    "    return metric_res"
   ],
   "metadata": {
    "collapsed": false,
    "pycharm": {
     "name": "#%%\n"
    }
   }
  },
  {
   "cell_type": "code",
   "execution_count": 35,
   "outputs": [],
   "source": [
    "#used from https://docs.python.org/3/library/itertools.html#recipes\n",
    "def repeat(object, times=None):\n",
    "    # repeat(10, 3) --> 10 10 10\n",
    "    if times is None:\n",
    "        while True:\n",
    "            yield object\n",
    "    else:\n",
    "        for i in range(times):\n",
    "            yield object\n",
    "\n",
    "def zip_longest(*args, fillvalue=None):\n",
    "    # zip_longest('ABCD', 'xy', fillvalue='-') --> Ax By C- D-\n",
    "    iterators = [iter(it) for it in args]\n",
    "    num_active = len(iterators)\n",
    "    if not num_active:\n",
    "        return\n",
    "    while True:\n",
    "        values = []\n",
    "        for i, it in enumerate(iterators):\n",
    "            try:\n",
    "                value = next(it)\n",
    "            except StopIteration:\n",
    "                num_active -= 1\n",
    "                if not num_active:\n",
    "                    return\n",
    "                iterators[i] = repeat(fillvalue)\n",
    "                value = fillvalue\n",
    "            values.append(value)\n",
    "        yield tuple(values)\n",
    "\n",
    "def grouper(iterable, n, *, incomplete='fill', fillvalue=None):\n",
    "    \"Collect data into non-overlapping fixed-length chunks or blocks\"\n",
    "    # grouper('ABCDEFG', 3, fillvalue='x') --> ABC DEF Gxx\n",
    "    # grouper('ABCDEFG', 3, incomplete='strict') --> ABC DEF ValueError\n",
    "    # grouper('ABCDEFG', 3, incomplete='ignore') --> ABC DEF\n",
    "    args = [iter(iterable)] * n\n",
    "    if incomplete == 'fill':\n",
    "        return zip_longest(*args, fillvalue=fillvalue)\n",
    "    if incomplete == 'strict':\n",
    "        return zip(*args, strict=True)\n",
    "    if incomplete == 'ignore':\n",
    "        return zip(*args)\n",
    "    else:\n",
    "        raise ValueError('Expected fill, strict, or ignore')\n",
    "counter = 0\n",
    "#def fit_params_AUC_lagged_combined_one_model_for(df,dfY,percent):\n",
    "def fit_one_model_for(solution,index):\n",
    "    global cur, df, dfY, percent, n_lagged, metric, beta\n",
    "    global counter\n",
    "    metric_res = 0\n",
    "    executor = concurrent.futures.ProcessPoolExecutor(2)\n",
    "    futures = [executor.submit(one_iteration, df,dfY,percent,t,solution)for t in grouper(df ,50, incomplete='ignore')]\n",
    "    concurrent.futures.wait(futures)\n",
    "    counter = counter + 1\n",
    "    if counter % 300 == 0:\n",
    "        print(counter//299)\n",
    "        counter = counter + 30\n",
    "        cur.save(\"for_all_model\")\n",
    "    return(sum(i.result() for i in futures))\n",
    "\n",
    "#    return fita"
   ],
   "metadata": {
    "collapsed": false,
    "pycharm": {
     "name": "#%%\n"
    }
   }
  },
  {
   "cell_type": "markdown",
   "source": [
    "Multiproccessing end"
   ],
   "metadata": {
    "collapsed": false
   }
  },
  {
   "cell_type": "code",
   "execution_count": 36,
   "outputs": [],
   "source": [
    "cur = None\n",
    "df = splits25\n",
    "dfY = splits25_YB\n",
    "percent = 10\n",
    "n_lagged = 20\n",
    "metric = metric_based_on_pool\n",
    "beta = -1"
   ],
   "metadata": {
    "collapsed": false,
    "pycharm": {
     "name": "#%%\n"
    }
   }
  },
  {
   "cell_type": "code",
   "execution_count": 37,
   "outputs": [],
   "source": [
    "#def fit_params_AUC_lagged_combined_one_model(df,dfY,percent,n_lagged = 20,sty=0,metric=roc_auc_score, beta = -1):\n",
    "def fit_one_model(solution, index):\n",
    "    #47 genov\n",
    "    #solution = [retUP,volUP,vol5UP,vol10UP,vol15UP,vol20UP,retDW,volDW,vol5DW,vol10DW,vol15DW,vol20DW,priorRUp,priorVUp,priorvol5UP,priorvol10UP,priorvol15UP,priorvol20UP,priorRDW,priorVDW,priorvol5DW,priorvol10DW,priorvol15DW,priorvol20DW,posR,pos1,pos5,pos10,pos15,pos20,posRD,pos1D,pos5D,pos10D,pos15D,pos20D,con1,con2,con3,con4,con5,cond1,cond2,cond3,cond4,cond5,skupi]\n",
    "    global cur, df, dfY, percent, n_lagged, metric, beta\n",
    "    ####TRANSLATE TO POS ARGS####\n",
    "    posu = [-1]*6\n",
    "    posd = [-1]*6\n",
    "    start = 0\n",
    "    for i in solution[24:30]:\n",
    "        if i not in posu:\n",
    "            posu[start] = i\n",
    "        start = start + 1\n",
    "    start = 0\n",
    "    for i in solution[30:36]:\n",
    "        if i not in posd:\n",
    "            posd[start] = i\n",
    "        start = start + 1\n",
    "    start = 0\n",
    "    last = 0\n",
    "    for i in posu:\n",
    "        if i == -1:\n",
    "            for last in range(last,6):\n",
    "                if last not in posu:\n",
    "                    posu[start] = last\n",
    "                    break\n",
    "        start = start + 1\n",
    "    start = 0\n",
    "    last = 0\n",
    "    for i in posd:\n",
    "        if i == -1:\n",
    "            for last in range(last,6):\n",
    "                if last not in posd:\n",
    "                    posd[start] = last\n",
    "                    break\n",
    "        start = start + 1\n",
    "\n",
    "    #############################\n",
    "\n",
    "    for ite in range(len(solution)):\n",
    "        if ite<12 and solution[ite] <= -1:\n",
    "            return -1\n",
    "        elif ite>=12 and solution[ite] < 0:\n",
    "            return -1\n",
    "    solution = [x[0] if hasattr(x,'__len__') else x for x in solution]\n",
    "\n",
    "    col_names = ['return_sh','vol_sh','vol5_sh','vol10_sh','vol15_sh','vol20_sh']\n",
    "    u0 = ' | ' if solution[36] else ' & '\n",
    "    u1 = ' | ' if solution[37] else ' & '\n",
    "    u2 = ' | ' if solution[38] else ' & '\n",
    "    u3 = ' | ' if solution[39] else ' & '\n",
    "    u4 = ' | ' if solution[40] else ' & '\n",
    "\n",
    "    connec = ' | ' if solution[-1] else ' & '\n",
    "\n",
    "    d0 = ' | ' if solution[41] else ' & '\n",
    "    d1 = ' | ' if solution[42] else ' & '\n",
    "    d2 = ' | ' if solution[43] else ' & '\n",
    "    d3 = ' | ' if solution[44] else ' & '\n",
    "    d4 = ' | ' if solution[45] else ' & '\n",
    "    q = ('(' +col_names[posu[0]] + ' > ' + str(solution[posu[0]]) + u0 +\n",
    "        '(' +col_names[posu[1]] + ' > ' + str(solution[posu[1]]) + u1 +\n",
    "        '(' +col_names[posu[2]] + ' > ' + str(solution[posu[2]]) + u2 +\n",
    "        '(' +col_names[posu[3]] + ' > ' + str(solution[posu[3]]) + u3 +\n",
    "        '(' +col_names[posu[4]] + ' > ' + str(solution[posu[4]]) + u4 +\n",
    "        '(' +col_names[posu[5]] + ' > ' + str(solution[posu[5]]) + '))))))' +\n",
    "        connec +\n",
    "        '(' +col_names[posd[0]] + ' < ' + str(solution[posd[0]]) + d0 +\n",
    "        '(' +col_names[posd[1]] + ' < ' + str(solution[posd[1]]) + d1 +\n",
    "        '(' +col_names[posd[2]] + ' < ' + str(solution[posd[2]]) + d2 +\n",
    "        '(' +col_names[posd[3]] + ' < ' + str(solution[posd[3]]) + d3 +\n",
    "        '(' +col_names[posd[4]] + ' < ' + str(solution[posd[4]]) + d4 +\n",
    "        '(' +col_names[posd[5]] + ' < ' + str(solution[posd[5]]) + '))))))')\n",
    "\n",
    "    res = []\n",
    "    comp_res = []\n",
    "    beta_neg = 0\n",
    "    for t in df:\n",
    "\n",
    "        test = df[t][0][n_lagged-1:]\n",
    "\n",
    "        test['return_sh'] = test['return'].shift( (solution[12]))\n",
    "        test['vol_sh'] = test['volume%'].shift( (solution[13]))\n",
    "        test['vol5_sh'] = test['volume5%'].shift( (solution[14]))\n",
    "        test['vol10_sh'] = test['volume10%'].shift( (solution[15]))\n",
    "        test['vol15_sh'] = test['volume15%'].shift( (solution[16]))\n",
    "        test['vol20_sh'] = test['volume20%'].shift( (solution[17]))\n",
    "        test = test.reset_index()\n",
    "        up = test.query(q).index\n",
    "\n",
    "\n",
    "        if beta == -1:\n",
    "            compareY = dfY[t][percent][0][0][n_lagged-1:]\n",
    "            compareY = compareY.reset_index()\n",
    "            beta_neg = beta_neg + metric(up,compareY.index[compareY[0] == True].tolist(), opens = test[\"open\"])\n",
    "        else:\n",
    "            res_add = np.array([False]*len(test))\n",
    "            res_add[up] =True\n",
    "            res.append(res_add)\n",
    "            comp_res.append(dfY[t][percent][0][n_lagged-1:])\n",
    "\n",
    "    if beta > 0:\n",
    "        return metric(comp_res,res,beta=beta)\n",
    "    if beta == -1:\n",
    "        return beta_neg\n",
    "    return metric(comp_res,res)\n",
    "#    return fita"
   ],
   "metadata": {
    "collapsed": false,
    "pycharm": {
     "name": "#%%\n"
    }
   }
  },
  {
   "cell_type": "code",
   "execution_count": 38,
   "outputs": [],
   "source": [
    "def fit_params_AUC_lagged_combined_special_test(df,dfY,tick,percent,n_lagged = 20,sty=0,metric=roc_auc_score, beta=-1,ga=None):\n",
    "    def fita(solution, index):\n",
    "        #47 genov\n",
    "        #solution = [retUP,volUP,vol5UP,vol10UP,vol15UP,vol20UP,retDW,volDW,vol5DW,vol10DW,vol15DW,vol20DW,priorRUp,priorVUp,priorvol5UP,priorvol10UP,priorvol15UP,priorvol20UP,priorRDW,priorVDW,priorvol5DW,priorvol10DW,priorvol15DW,priorvol20DW,posR,pos1,pos5,pos10,pos15,pos20,posRD,pos1D,pos5D,pos10D,pos15D,pos20D,con1,con2,con3,con4,con5,cond1,cond2,cond3,cond4,cond5,skupi]\n",
    "\n",
    "        ####TRANSLATE TO POS ARGS####\n",
    "        posu = [-1]*6\n",
    "        posd = [-1]*6\n",
    "        start = 0\n",
    "        for i in solution[24:30]:\n",
    "            if i not in posu:\n",
    "                posu[start] = i\n",
    "            start = start + 1\n",
    "        start = 0\n",
    "        for i in solution[30:36]:\n",
    "            if i not in posd:\n",
    "                posd[start] = i\n",
    "            start = start + 1\n",
    "        start = 0\n",
    "        last = 0\n",
    "        for i in posu:\n",
    "            if i == -1:\n",
    "                for last in range(last,6):\n",
    "                    if last not in posu:\n",
    "                        posu[start] = last\n",
    "                        break\n",
    "            start = start + 1\n",
    "        start = 0\n",
    "        last = 0\n",
    "        for i in posd:\n",
    "            if i == -1:\n",
    "                for last in range(last,6):\n",
    "                    if last not in posd:\n",
    "                        posd[start] = last\n",
    "                        break\n",
    "            start = start + 1\n",
    "\n",
    "        #############################\n",
    "\n",
    "        for ite in range(len(solution)):\n",
    "            if ite<12 and solution[ite] <= -1:\n",
    "                return -1\n",
    "            elif ite>=12 and solution[ite] < 0:\n",
    "                return -1\n",
    "        solution = [x[0] if hasattr(x,'__len__') else x for x in solution]\n",
    "\n",
    "\n",
    "        test = df[tick][1][n_lagged-1:]\n",
    "\n",
    "        ############QUERY SPEED TEST##############\n",
    "        col_names = ['return_sh','vol_sh','vol5_sh','vol10_sh','vol15_sh','vol20_sh']\n",
    "        test['return_sh'] = test['return'].shift( (solution[12]))\n",
    "        test['vol_sh'] = test['volume%'].shift( (solution[13]))\n",
    "        test['vol5_sh'] = test['volume5%'].shift( (solution[14]))\n",
    "        test['vol10_sh'] = test['volume10%'].shift( (solution[15]))\n",
    "        test['vol15_sh'] = test['volume15%'].shift( (solution[16]))\n",
    "        test['vol20_sh'] = test['volume20%'].shift( (solution[17]))\n",
    "        test = test.reset_index()\n",
    "\n",
    "        u0 = ' | ' if solution[36] else ' & '\n",
    "        u1 = ' | ' if solution[37] else ' & '\n",
    "        u2 = ' | ' if solution[38] else ' & '\n",
    "        u3 = ' | ' if solution[39] else ' & '\n",
    "        u4 = ' | ' if solution[40] else ' & '\n",
    "\n",
    "        connec = ' | ' if solution[-1] else ' & '\n",
    "\n",
    "        d0 = ' | ' if solution[41] else ' & '\n",
    "        d1 = ' | ' if solution[42] else ' & '\n",
    "        d2 = ' | ' if solution[43] else ' & '\n",
    "        d3 = ' | ' if solution[44] else ' & '\n",
    "        d4 = ' | ' if solution[45] else ' & '\n",
    "        q = ('(' +col_names[posu[0]] + ' > ' + str(solution[posu[0]]) + u0 +\n",
    "            '(' +col_names[posu[1]] + ' > ' + str(solution[posu[1]]) + u1 +\n",
    "            '(' +col_names[posu[2]] + ' > ' + str(solution[posu[2]]) + u2 +\n",
    "            '(' +col_names[posu[3]] + ' > ' + str(solution[posu[3]]) + u3 +\n",
    "            '(' +col_names[posu[4]] + ' > ' + str(solution[posu[4]]) + u4 +\n",
    "            '(' +col_names[posu[5]] + ' > ' + str(solution[posu[5]]) + '))))))' +\n",
    "            connec +\n",
    "            '(' +col_names[posd[0]] + ' < ' + str(solution[posd[0]]) + d0 +\n",
    "            '(' +col_names[posd[1]] + ' < ' + str(solution[posd[1]]) + d1 +\n",
    "            '(' +col_names[posd[2]] + ' < ' + str(solution[posd[2]]) + d2 +\n",
    "            '(' +col_names[posd[3]] + ' < ' + str(solution[posd[3]]) + d3 +\n",
    "            '(' +col_names[posd[4]] + ' < ' + str(solution[posd[4]]) + d4 +\n",
    "            '(' +col_names[posd[5]] + ' < ' + str(solution[posd[5]]) + '))))))')\n",
    "\n",
    "        up = test.query(q).index\n",
    "        res = np.array([False]*len(df[tick][1][n_lagged-1:]))\n",
    "        res[up] =True\n",
    "\n",
    "        #print(roc_auc_score(dfY[tick][percent][0],res))\n",
    "        # positive beta is fB\n",
    "        if beta > 0:\n",
    "            return metric(dfY[tick][percent][1][n_lagged-1:],res,beta=beta)\n",
    "        # -1 is my metric\n",
    "        if beta == -1:\n",
    "            reseted = dfY[tick][percent][1].reset_index()\n",
    "            return metric(up,reseted[n_lagged-1:].index[dfY[tick][percent][1][0][n_lagged-1:] == True].tolist(), opens = df[tick][1][n_lagged-1:][\"open\"])\n",
    "        # default is AUC\n",
    "        return metric(dfY[tick][percent][1][n_lagged-1:],res)\n",
    "    return fita"
   ],
   "metadata": {
    "collapsed": false,
    "pycharm": {
     "name": "#%%\n"
    }
   }
  },
  {
   "cell_type": "markdown",
   "source": [
    "One model for all"
   ],
   "metadata": {
    "collapsed": false
   }
  },
  {
   "cell_type": "code",
   "execution_count": null,
   "outputs": [],
   "source": [
    "pd.options.mode.chained_assignment = None  # default='warn'\n",
    "gene_type = [[np.float64,4] for x in range(12)]+[np.uint8 for x in range(35)]# + 0,3,5,3,2,2,1,4,2,3,3,5,0,1,1,0,0,1,0,1,1,0,1\n",
    "gene_space = [{'low':-1,'high':8}]*12+[list(range(20))]*12 + [list(range(6))]*12 + [[0,1]]*11\n",
    "tip_mutacije = 'random'\n",
    "st_gen = 200\n",
    "mutacija_zamenjava = False\n",
    "izbira_stars = 'sss'\n",
    "pop_size = 300\n",
    "st_stars = 30\n",
    "counter = 0\n",
    "\n",
    "cur = None\n",
    "df = splits25\n",
    "dfY = splits25_YB\n",
    "percent = 10\n",
    "n_lagged = 20\n",
    "metric = metric_based_on_pool\n",
    "beta = -1\n",
    "\n",
    "\n",
    "if os.path.isfile('./OneMyMresults100.pkl'):\n",
    "    with open('OneMyMresults100.pkl', 'rb') as handle:\n",
    "        print(\"work\")\n",
    "        res_mine_one = pickle.load(handle)\n",
    "else:\n",
    "    res_mine_one =pd.DataFrame(columns = ['Ticker','Percent','Train_AUC','Train_solution','Test_AUC']) #{t:{p:{'train':None,'test':None} for p in [10,15,20]} for t in ticker400_data.keys()}\n",
    "\n",
    "for percent in [10]:\n",
    "    q = res_mine_one.loc[(res_mine_one['Ticker'] == t)& ( res_mine_one['Percent'] ==percent),'Test_AUC']\n",
    "    if len(q.index)>0 and not pd.isna(q.values[0]):\n",
    "        print(\"huh\")\n",
    "        continue\n",
    "    print(percent)\n",
    "    gene_type = [[np.float64,4] for x in range(12)]+[np.uint8 for x in range(35)]\n",
    "    with tqdm.tqdm(total=st_gen) as pbar:\n",
    "        cur = pygad.GA(num_genes=47,gene_space=gene_space,gene_type=gene_type,save_best_solutions=True,suppress_warnings=True,num_generations=st_gen,num_parents_mating=st_stars,fitness_func=fit_one_model_for,sol_per_pop=pop_size,parent_selection_type=\"sss\",crossover_type='scattered',mutation_type='random',mutation_by_replacement=False,parallel_processing=5)\n",
    "        cur.run()\n",
    "    besto = cur.best_solution(pop_fitness=None)\n",
    "    res_mine_one = res_mine_one.append({'Ticker':t,'Percent':percent,'Train_AUC':besto[1],'Train_solution':besto[0],'Test_AUC':None},ignore_index=True)\n",
    "    for t in ticker400_data:\n",
    "        res_mine_one.loc[(res_mine_one['Ticker'] == t)& ( res_mine_one['Percent'] ==percent),'Test_AUC'] = fit_params_AUC_lagged_combined_special_test(splits25,splits25_YB,t,percent,sty=0,metric=fbeta_score,beta=0.5)(besto[0],0)\n",
    "    res_mine_one.to_pickle('./OneMyMresults100.pkl')"
   ],
   "metadata": {
    "collapsed": false,
    "pycharm": {
     "name": "#%%\n"
    }
   }
  },
  {
   "cell_type": "code",
   "execution_count": 39,
   "outputs": [],
   "source": [
    "cur = pygad.load(\"for_all_model\")"
   ],
   "metadata": {
    "collapsed": false,
    "pycharm": {
     "name": "#%%\n"
    }
   }
  },
  {
   "cell_type": "code",
   "execution_count": 56,
   "outputs": [
    {
     "data": {
      "text/plain": "<AxesSubplot:>"
     },
     "execution_count": 56,
     "metadata": {},
     "output_type": "execute_result"
    },
    {
     "data": {
      "text/plain": "<Figure size 1315.44x1315.44 with 2 Axes>",
      "image/png": "[encoded data removed]"
     },
     "metadata": {},
     "output_type": "display_data"
    }
   ],
   "source": [
    "#plot out a correlation matrix for the stocks volume to see if its at all correlated\n",
    "ticker400_vol = {x : ticker400_data[x].loc[:,\"volume10%\"] for x in ticker400_data}\n",
    "test_corr = pd.DataFrame(ticker400_vol)\n",
    "corr = test_corr.corr()\n",
    "\n",
    "sns.set(rc={'figure.figsize':(18.27,18.27)})\n",
    "sns.heatmap(corr,\n",
    "            xticklabels=corr.columns,\n",
    "            yticklabels=corr.columns)"
   ],
   "metadata": {
    "collapsed": false,
    "pycharm": {
     "name": "#%%\n"
    }
   }
  },
  {
   "cell_type": "code",
   "execution_count": 59,
   "outputs": [
    {
     "data": {
      "text/plain": "<AxesSubplot:>"
     },
     "execution_count": 59,
     "metadata": {},
     "output_type": "execute_result"
    },
    {
     "data": {
      "text/plain": "<Figure size 1315.44x1315.44 with 2 Axes>",
      "image/png": "[encoded data removed]"
     },
     "metadata": {},
     "output_type": "display_data"
    }
   ],
   "source": [
    "corr = ticker400_data[\"AABA\"].corr()\n",
    "sns.heatmap(corr,\n",
    "            xticklabels=corr.columns,\n",
    "            yticklabels=corr.columns)"
   ],
   "metadata": {
    "collapsed": false,
    "pycharm": {
     "name": "#%%\n"
    }
   }
  },
  {
   "cell_type": "markdown",
   "source": [
    "My own metric"
   ],
   "metadata": {
    "collapsed": false
   }
  },
  {
   "cell_type": "code",
   "source": [
    "pd.options.mode.chained_assignment = None  # default='warn'\n",
    "gene_type = [[np.float64,4] for x in range(12)]+[np.uint8 for x in range(35)]# + 0,3,5,3,2,2,1,4,2,3,3,5,0,1,1,0,0,1,0,1,1,0,1\n",
    "gene_space = [{'low':-1,'high':8}]*12+[list(range(20))]*12 + [list(range(6))]*12 + [[0,1]]*11\n",
    "tip_mutacije = 'random'\n",
    "st_gen = 200\n",
    "mutacija_zamenjava = False\n",
    "izbira_stars = 'sss'\n",
    "pop_size = 300\n",
    "st_stars = 30\n",
    "\n",
    "if os.path.isfile('./MyMresults100.pkl'):\n",
    "    with open('MyMresults100.pkl', 'rb') as handle:\n",
    "        print(\"work\")\n",
    "        res_mine = pickle.load(handle)\n",
    "else:\n",
    "    res_mine =pd.DataFrame(columns = ['Ticker','Percent','Train_AUC','Train_solution','Test_AUC']) #{t:{p:{'train':None,'test':None} for p in [10,15,20]} for t in ticker400_data.keys()}\n",
    "\n",
    "\n",
    "for t in list(ticker400_data):\n",
    "    print(t)\n",
    "    for percent in [10]:\n",
    "        q = res_mine.loc[(res_mine['Ticker'] == t)& ( res_mine['Percent'] ==percent),'Test_AUC']\n",
    "        print(q)\n",
    "        if len(q.index)>0 and not pd.isna(q.values[0]):\n",
    "            print(\"huh\")\n",
    "            continue\n",
    "        print(percent)\n",
    "        gene_type = [[np.float64,4] for x in range(12)]+[np.uint8 for x in range(35)]\n",
    "        cur = pygad.GA(num_genes=47,gene_space=gene_space,gene_type=gene_type,save_best_solutions=True,suppress_warnings=True,num_generations=st_gen,num_parents_mating=st_stars,fitness_func=fit_params_AUC_lagged_combined_special(splits25,splits25_YB,t,percent,sty=0,metric=fbeta_score,beta=0.5),sol_per_pop=pop_size,parent_selection_type=\"sss\",crossover_type='scattered',mutation_type='random',mutation_by_replacement=False)\n",
    "        cur.run()\n",
    "        besto = cur.best_solution(pop_fitness=None)\n",
    "        res_mine = res_mine.append({'Ticker':t,'Percent':percent,'Train_AUC':besto[1],'Train_solution':besto[0],'Test_AUC':None},ignore_index=True)\n",
    "        res_mine.loc[(res_mine['Ticker'] == t)& ( res_mine['Percent'] ==percent),'Test_AUC'] = fit_params_AUC_lagged_combined_special_test(splits25,splits25_YB,t,percent,sty=0,metric=fbeta_score,beta=0.5)(besto[0],0)\n",
    "        res_mine.to_pickle('./MyMresults100.pkl')"
   ],
   "metadata": {
    "collapsed": false,
    "pycharm": {
     "name": "#%%\n"
    }
   },
   "execution_count": null,
   "outputs": []
  },
  {
   "cell_type": "markdown",
   "source": [
    "[on impact of skewness on metrics](https://www.ncbi.nlm.nih.gov/pmc/articles/PMC4285355/)\n",
    "testing other metrics on AABA:\n",
    "f0.5"
   ],
   "metadata": {
    "collapsed": false
   }
  },
  {
   "cell_type": "code",
   "execution_count": null,
   "outputs": [],
   "source": [
    "gene_type = [[np.float64,4] for x in range(12)]+[np.uint8 for x in range(35)]# + 0,3,5,3,2,2,1,4,2,3,3,5,0,1,1,0,0,1,0,1,1,0,1\n",
    "gene_space = [{'low':-1,'high':8}]*12+[list(range(20))]*12 + [list(range(6))]*12 + [[0,1]]*11\n",
    "tip_mutacije = 'random'\n",
    "st_gen = 200\n",
    "mutacija_zamenjava = False\n",
    "izbira_stars = 'sss'\n",
    "pop_size = 300\n",
    "st_stars = 30\n",
    "\n",
    "if os.path.isfile('./F05results100.pkl'):\n",
    "    with open('F05results100.pkl', 'rb') as handle:\n",
    "        print(\"work\")\n",
    "        res_f05 = pickle.load(handle)\n",
    "else:\n",
    "    res_f05 =pd.DataFrame(columns = ['Ticker','Percent','Train_AUC','Train_solution','Test_AUC']) #{t:{p:{'train':None,'test':None} for p in [10,15,20]} for t in ticker400_data.keys()}\n",
    "\n",
    "\n",
    "t = 'AABA'\n",
    "percent = 15\n",
    "for t in list(ticker400_data):\n",
    "    print(t)\n",
    "    for percent in [10]:\n",
    "        q = res_f05.loc[(res_f05['Ticker'] == t)& ( res_f05['Percent'] ==percent),'Test_AUC']\n",
    "        print(q)\n",
    "        if len(q.index)>0 and not pd.isna(q.values[0]):\n",
    "            print(\"huh\")\n",
    "            continue\n",
    "        print(percent)\n",
    "        gene_type = [[np.float64,4] for x in range(12)]+[np.uint8 for x in range(35)]\n",
    "        cur = pygad.GA(num_genes=47,gene_space=gene_space,gene_type=gene_type,save_best_solutions=True,suppress_warnings=True,num_generations=st_gen,num_parents_mating=st_stars,fitness_func=fit_params_AUC_lagged_combined_special(splits25,splits25_YB,t,percent,sty=0,metric=fbeta_score,beta=0.5),sol_per_pop=pop_size,parent_selection_type=\"sss\",crossover_type='scattered',mutation_type='random',mutation_by_replacement=False)\n",
    "        cur.run()\n",
    "        besto = cur.best_solution(pop_fitness=None)\n",
    "        res_f05 = res_f05.append({'Ticker':t,'Percent':percent,'Train_AUC':besto[1],'Train_solution':besto[0],'Test_AUC':None},ignore_index=True)\n",
    "        res_f05.loc[(res_f05['Ticker'] == t)& ( res_f05['Percent'] ==percent),'Test_AUC'] = fit_params_AUC_lagged_combined_special_test(splits25,splits25_YB,t,percent,sty=0,metric=fbeta_score,beta=0.5)(besto[0],0)\n",
    "        res_f05.to_pickle('./F05results100.pkl')"
   ],
   "metadata": {
    "collapsed": false,
    "pycharm": {
     "name": "#%%\n"
    }
   }
  },
  {
   "cell_type": "markdown",
   "source": [
    "AUC"
   ],
   "metadata": {
    "collapsed": false
   }
  },
  {
   "cell_type": "code",
   "execution_count": null,
   "outputs": [],
   "source": [
    "gene_type = [[np.float64,4] for x in range(12)]+[np.uint8 for x in range(35)]# + 0,3,5,3,2,2,1,4,2,3,3,5,0,1,1,0,0,1,0,1,1,0,1\n",
    "gene_space = [{'low':-1,'high':8}]*12+[list(range(20))]*12 + [list(range(6))]*12 + [[0,1]]*11\n",
    "tip_mutacije = 'random'\n",
    "st_gen = 200\n",
    "mutacija_zamenjava = False\n",
    "izbira_stars = 'sss'\n",
    "pop_size = 300\n",
    "st_stars = 30\n",
    "\n",
    "if os.path.isfile('./AUCresults100.pkl'):\n",
    "    with open('AUCresults100.pkl', 'rb') as handle:\n",
    "        print(\"work\")\n",
    "        res_auc = pickle.load(handle)\n",
    "else:\n",
    "    res_auc =pd.DataFrame(columns = ['Ticker','Percent','Train_AUC','Train_solution','Test_AUC']) #{t:{p:{'train':None,'test':None} for p in [10,15,20]} for t in ticker400_data.keys()}\n",
    "\n",
    "\n",
    "t = 'AABA'\n",
    "percent = 15\n",
    "for t in list(ticker400_data):\n",
    "    print(t)\n",
    "    for percent in [10]:\n",
    "        q = res_auc.loc[(res_auc['Ticker'] == t)& ( res_auc['Percent'] ==percent),'Test_AUC']\n",
    "        print(q)\n",
    "        if len(q.index)>0 and not pd.isna(q.values[0]):\n",
    "            print(\"huh\")\n",
    "            continue\n",
    "        print(percent)\n",
    "        gene_type = [[np.float64,4] for x in range(12)]+[np.uint8 for x in range(35)]\n",
    "        cur = pygad.GA(num_genes=47,gene_space=gene_space,gene_type=gene_type,save_best_solutions=True,suppress_warnings=True,num_generations=st_gen,num_parents_mating=st_stars,fitness_func=fit_params_AUC_lagged_combined_special(splits25,splits25_YB,t,percent,sty=0),sol_per_pop=pop_size,parent_selection_type=\"sss\",crossover_type='scattered',mutation_type='random',mutation_by_replacement=False)\n",
    "        cur.run()\n",
    "        besto = cur.best_solution(pop_fitness=None)\n",
    "        res_auc = res_auc.append({'Ticker':t,'Percent':percent,'Train_AUC':besto[1],'Train_solution':besto[0],'Test_AUC':None},ignore_index=True)\n",
    "        res_auc.loc[(res_auc['Ticker'] == t)& ( res_auc['Percent'] ==percent),'Test_AUC'] = fit_params_AUC_lagged_combined_special_test(splits25,splits25_YB,t,percent,sty=0)(besto[0],0)\n",
    "        res.to_pickle('./AUCresults100.pkl')"
   ],
   "metadata": {
    "collapsed": false,
    "pycharm": {
     "name": "#%%\n"
    }
   }
  },
  {
   "cell_type": "code",
   "execution_count": null,
   "outputs": [],
   "source": [
    "\"\"\"pd.options.mode.chained_assignment = None  # default='warn'\n",
    "\n",
    "gene_type = [[np.float64,4] for x in range(12)]+[np.uint8 for x in range(35)]# + 0,3,5,3,2,2,1,4,2,3,3,5,0,1,1,0,0,1,0,1,1,0,1\n",
    "gene_space = [{'low':-1,'high':8}]*12+[list(range(20))]*12 + [list(range(6))]*12 + [[0,1]]*11\n",
    "tip_mutacije = 'random'\n",
    "st_gen = 200\n",
    "mutacija_zamenjava = False\n",
    "izbira_stars = 'sss'\n",
    "pop_size = 300\n",
    "st_stars = 30\n",
    "\n",
    "\n",
    "if os.path.isfile('./results100.pkl'):\n",
    "    with open('results100.pkl', 'rb') as handle:\n",
    "        print(\"work\")\n",
    "        res = pickle.load(handle)\n",
    "else:\n",
    "    res =pd.DataFrame(columns = ['Ticker','Percent','Train_AUC','Train_solution','Test_AUC']) #{t:{p:{'train':None,'test':None} for p in [10,15,20]} for t in ticker400_data.keys()}\n",
    "\n",
    "\n",
    "for t in list(ticker400_data):\n",
    "    print(t)\n",
    "    for percent in [10,15,20]:\n",
    "        q = res.loc[(res['Ticker'] == t)& ( res['Percent'] ==percent),'Test_AUC']\n",
    "        print(q)\n",
    "        if len(q.index)>0 and not pd.isna(q.values[0]):\n",
    "            print(\"huh\")\n",
    "            continue\n",
    "        print(percent)\n",
    "        gene_type = [[np.float64,4] for x in range(12)]+[np.uint8 for x in range(35)]\n",
    "        cur = pygad.GA(num_genes=47,gene_space=gene_space,gene_type=gene_type,save_best_solutions=True,suppress_warnings=True,num_generations=st_gen,num_parents_mating=st_stars,fitness_func=fit_params_AUC_lagged_combined_special(splits25,splits25_YB,t,percent,sty=0),sol_per_pop=pop_size,parent_selection_type=\"sss\",crossover_type='scattered',mutation_type='random',mutation_by_replacement=False)\n",
    "        cur.run()\n",
    "        besto = cur.best_solution(pop_fitness=None)\n",
    "        res = res.append({'Ticker':t,'Percent':percent,'Train_AUC':besto[1],'Train_solution':besto[0],'Test_AUC':None},ignore_index=True)\n",
    "        res.loc[(res['Ticker'] == t)& ( res['Percent'] ==percent),'Test_AUC'] = fit_params_AUC_lagged_combined_special_test(splits25,splits25_YB,t,percent,sty=0)(besto[0],0)\n",
    "        res.to_pickle('./results100.pkl')\"\"\""
   ],
   "metadata": {
    "collapsed": false,
    "pycharm": {
     "name": "#%%\n"
    }
   }
  },
  {
   "cell_type": "code",
   "execution_count": null,
   "outputs": [],
   "source": [
    "duration = 4  # seconds\n",
    "freq = 440  # Hz\n",
    "os.system('play -nq -t alsa synth {} sine {}'.format(duration, freq))\n",
    "\n",
    "\n"
   ],
   "metadata": {
    "collapsed": false,
    "pycharm": {
     "name": "#%%\n"
    }
   }
  },
  {
   "cell_type": "code",
   "execution_count": null,
   "outputs": [],
   "source": [
    "https://i.redd.it/7erxyzfox6s91.jpg"
   ],
   "metadata": {
    "collapsed": false,
    "pycharm": {
     "name": "#%%\n"
    }
   }
  },
  {
   "cell_type": "code",
   "execution_count": null,
   "outputs": [],
   "source": [
    "#res.set_index(['Ticker','Percent'],inplace=True)"
   ],
   "metadata": {
    "collapsed": false,
    "pycharm": {
     "name": "#%%\n"
    }
   }
  },
  {
   "cell_type": "code",
   "execution_count": null,
   "outputs": [],
   "source": [
    "#len(res_f05.loc[res_f05['Percent'] == 10])\n",
    "fix, ax = plt.subplots(2,3,figsize=(15,10))\n",
    "bins = np.arange(0,1,0.001)\n",
    "r = 0\n",
    "c = 0\n",
    "for s in ['Train_AUC','Test_AUC']:\n",
    "    for i in [10]:\n",
    "        #print(hist(res_f05.loc[res_f05['Percent'] == i][s])\n",
    "        ax[r,c].hist(res_f05.loc[res_f05['Percent'] == i][s],np.arange(res_f05.loc[res_f05['Percent'] == i][s].min(),res_f05.loc[res_f05['Percent'] == i][s].max(),0.01))\n",
    "        ax[r,c].axvline(res_f05.loc[res_f05['Percent'] == i][s].mean(), color='k',linestyle='dashed')\n",
    "        ax[r,c].set_title(s + ' ' + str(i))\n",
    "        c = c + 1\n",
    "    r = r + 1\n",
    "    c = 0\n"
   ],
   "metadata": {
    "collapsed": false,
    "pycharm": {
     "name": "#%%\n"
    }
   }
  },
  {
   "cell_type": "markdown",
   "source": [
    "# Pregledovanje investiranja portfelija --> trgovanje, primerjamo z buy and hold\n",
    "# Primerjava dveh strategij"
   ],
   "metadata": {
    "collapsed": false
   }
  },
  {
   "cell_type": "code",
   "execution_count": null,
   "outputs": [],
   "source": [
    "def combined_filter_strategy(solution: list, start_date: datetime.datetime, df: pd.DataFrame, n_lagged: int = 20) -> list:\n",
    "        \"\"\"\n",
    "        Calculates pivot points based on filter parameters\n",
    "        :param solution: [retUP,volUP,vol5UP,vol10UP,vol15UP,vol20UP,retDW,volDW,vol5DW,vol10DW,vol15DW,vol20DW,priorRUp,priorVUp,priorvol5UP,priorvol10UP,priorvol15UP,priorvol20UP,priorRDW,priorVDW,priorvol5DW,priorvol10DW,priorvol15DW,priorvol20DW,posR,pos1,pos5,pos10,pos15,pos20,posRD,pos1D,pos5D,pos10D,pos15D,pos20D,con1,con2,con3,con4,con5,cond1,cond2,cond3,cond4,cond5,skupi] all the filters are floats and representchange of metrix in percent: retUP is return change compared to 1 day back while vol5UP is volume change compared to 5 days back\n",
    "        :param start_date: date at which we want the strategy to start calculating\n",
    "        :param df: datafram of the stock price and all other parameters\n",
    "        :param n_lagged: how many days do we have to lag the whole dataset due to missing values\n",
    "        :return: list of pivot points\n",
    "        \"\"\"\n",
    "        #47 genov\n",
    "\n",
    "        #n_lagged tells us how much history we need prior to the investment\n",
    "        start_buffer = start_date - datetime.timedelta(days=n_lagged)\n",
    "        ####TRANSLATE TO POS ARGS####\n",
    "        posu = [-1]*6\n",
    "        posd = [-1]*6\n",
    "        start = 0\n",
    "        for i in solution[24:30]:\n",
    "            if i not in posu:\n",
    "                posu[start] = i\n",
    "            start = start + 1\n",
    "        start = 0\n",
    "        for i in solution[30:36]:\n",
    "            if i not in posd:\n",
    "                posd[start] = i\n",
    "            start = start + 1\n",
    "        start = 0\n",
    "        last = 0\n",
    "        for i in posu:\n",
    "            if i == -1:\n",
    "                for last in range(last,6):\n",
    "                    if last not in posu:\n",
    "                        posu[start] = last\n",
    "                        break\n",
    "            start = start + 1\n",
    "        start = 0\n",
    "        last = 0\n",
    "        for i in posd:\n",
    "            if i == -1:\n",
    "                for last in range(last,6):\n",
    "                    if last not in posd:\n",
    "                        posd[start] = last\n",
    "                        break\n",
    "            start = start + 1\n",
    "\n",
    "        #############################\n",
    "        #print(solution)\n",
    "        for ite in range(len(solution)):\n",
    "            if ite<12 and solution[ite] <= -1:\n",
    "                return -1\n",
    "            elif ite>=12 and solution[ite] < 0:\n",
    "                return -1\n",
    "\n",
    "\n",
    "        test = df.loc[df[\"date\"]>start_buffer]\n",
    "\n",
    "        col_names = ['return_sh','vol_sh','vol5_sh','vol10_sh','vol15_sh','vol20_sh']\n",
    "        test['return_sh'] = test['return'].shift( (solution[12]))\n",
    "        test['vol_sh'] = test['volume%'].shift( (solution[13]))\n",
    "        test['vol5_sh'] = test['volume5%'].shift( (solution[14]))\n",
    "        test['vol10_sh'] = test['volume10%'].shift( (solution[15]))\n",
    "        test['vol15_sh'] = test['volume15%'].shift( (solution[16]))\n",
    "        test['vol20_sh'] = test['volume20%'].shift( (solution[17]))\n",
    "        test = test.reset_index()\n",
    "\n",
    "        u0 = ' | ' if solution[36] else ' & '\n",
    "        u1 = ' | ' if solution[37] else ' & '\n",
    "        u2 = ' | ' if solution[38] else ' & '\n",
    "        u3 = ' | ' if solution[39] else ' & '\n",
    "        u4 = ' | ' if solution[40] else ' & '\n",
    "\n",
    "        connec = ' | ' if solution[-1] else ' & '\n",
    "\n",
    "        d0 = ' | ' if solution[41] else ' & '\n",
    "        d1 = ' | ' if solution[42] else ' & '\n",
    "        d2 = ' | ' if solution[43] else ' & '\n",
    "        d3 = ' | ' if solution[44] else ' & '\n",
    "        d4 = ' | ' if solution[45] else ' & '\n",
    "        q = ('(' +col_names[posu[0]] + ' > ' + str(solution[posu[0]]) + u0 +\n",
    "            '(' +col_names[posu[1]] + ' > ' + str(solution[posu[1]]) + u1 +\n",
    "            '(' +col_names[posu[2]] + ' > ' + str(solution[posu[2]]) + u2 +\n",
    "            '(' +col_names[posu[3]] + ' > ' + str(solution[posu[3]]) + u3 +\n",
    "            '(' +col_names[posu[4]] + ' > ' + str(solution[posu[4]]) + u4 +\n",
    "            '(' +col_names[posu[5]] + ' > ' + str(solution[posu[5]]) + '))))))' +\n",
    "            connec +\n",
    "            '(' +col_names[posd[0]] + ' < ' + str(solution[posd[0]]) + d0 +\n",
    "            '(' +col_names[posd[1]] + ' < ' + str(solution[posd[1]]) + d1 +\n",
    "            '(' +col_names[posd[2]] + ' < ' + str(solution[posd[2]]) + d2 +\n",
    "            '(' +col_names[posd[3]] + ' < ' + str(solution[posd[3]]) + d3 +\n",
    "            '(' +col_names[posd[4]] + ' < ' + str(solution[posd[4]]) + d4 +\n",
    "            '(' +col_names[posd[5]] + ' < ' + str(solution[posd[5]]) + '))))))')\n",
    "\n",
    "\n",
    "        up = test.query(q).index\n",
    "\n",
    "        #returns pivot points so points where price supposedly took a turn\n",
    "        return up"
   ],
   "metadata": {
    "collapsed": false,
    "pycharm": {
     "name": "#%%\n"
    }
   }
  },
  {
   "cell_type": "code",
   "execution_count": null,
   "outputs": [],
   "source": [
    "#testing function above\n",
    "combined_filter_strategy(res.loc[(res[\"Ticker\"] == \"AABA\") & (res[\"Percent\"] == 10)]['Train_solution'].iloc[0],ticker400_data['AABA'].iloc[int(len(ticker400_data)/4*3)].date,ticker400_data['AABA'],n_lagged = 20)"
   ],
   "metadata": {
    "collapsed": false,
    "pycharm": {
     "name": "#%%\n"
    }
   }
  },
  {
   "cell_type": "code",
   "execution_count": null,
   "outputs": [],
   "source": [
    "def visualize_pivot_points(pivots,stock):\n",
    "    plt.plot(range(len(stock.open)),stock.open,color='b',zorder=0)\n",
    "    for pivot,marker,color in pivots:\n",
    "        plt.scatter(pivot,stock.open.iloc[pivot],marker=marker,color=color,s=4,zorder=1)\n",
    "    plt.yscale('log')\n",
    "    plt.show()\n",
    "\n",
    "max_t = max_history_ticker(ticker400_data)\n",
    "print(max_t)\n",
    "date_75 = ticker400_data[max_t].iloc[int(len(ticker400_data[max_t])/4*3)].date\n",
    "\n",
    "\n",
    "#20 percent is too much\n",
    "percent = 10\n",
    "auc_lens = [len(combined_filter_strategy(res_auc.loc[(res_auc[\"Ticker\"] == x) & (res_auc[\"Percent\"] == percent)][\"Train_solution\"].iloc[0],ticker400_data[x].iloc[int(len(ticker400_data[x])/4*3)].date,ticker400_data[x],n_lagged = 20))for x in ticker400_data]\n",
    "f05_lens = [len(combined_filter_strategy(res_f05.loc[(res_f05[\"Ticker\"] == ticker) & (res_f05[\"Percent\"] == percent)][\"Train_solution\"].iloc[0],ticker400_data[ticker].iloc[int(len(ticker400_data[ticker])/4*3)].date,ticker400_data[ticker],n_lagged = 20)) for ticker in ticker400_data]\n",
    "mine_lens = [len(combined_filter_strategy(res_mine.loc[(res_mine[\"Ticker\"] == ticker) & (res_mine[\"Percent\"] == percent)][\"Train_solution\"].iloc[0],ticker400_data[ticker].iloc[int(len(ticker400_data[ticker])/4*3)].date,ticker400_data[ticker],n_lagged = 20)) for ticker in ticker400_data]\n",
    "print(f'Avg length auc:{sum(auc_lens)/100}, Std dev: {math.sqrt(sum([(x - sum(auc_lens)/100) ** 2 for x in auc_lens])/99)}')\n",
    "print(f'Avg length f05: {sum(f05_lens)/100}, Std dev: {math.sqrt(sum([(x - sum(f05_lens)/100) ** 2 for x in f05_lens])/99)}')\n",
    "print(f'Avg length mine: {sum(mine_lens)/100}, Std dev: {math.sqrt(sum([(x - sum(mine_lens)/100) ** 2 for x in mine_lens])/99)}')\n",
    "\n",
    "ticker = \"ADBE\"\n",
    "pivots = combined_filter_strategy(res_auc.loc[(res_auc[\"Ticker\"] == ticker) & (res_auc[\"Percent\"] == percent)]['Train_solution'].iloc[0],ticker400_data[ticker].iloc[int(len(ticker400_data[ticker])/4*3)].date,ticker400_data[ticker],n_lagged = 20)\n",
    "pivots2 = combined_filter_strategy(res_f05.loc[(res_f05[\"Ticker\"] == ticker) & (res_f05[\"Percent\"] == percent)][\"Train_solution\"].iloc[0],ticker400_data[ticker].iloc[int(len(ticker400_data[ticker])/4*3)].date,ticker400_data[ticker],n_lagged = 20)\n",
    "pivots3 = combined_filter_strategy(res_mine.loc[(res_mine[\"Ticker\"] == ticker) & (res_mine[\"Percent\"] == percent)][\"Train_solution\"].iloc[0],ticker400_data[ticker].iloc[int(len(ticker400_data[ticker])/4*3)].date,ticker400_data[ticker],n_lagged = 20)\n",
    "#pivots=ticker400_trend10[\"AAPL\"]\n",
    "stock = ticker400_data[ticker]\n",
    "print(pivots3)\n",
    "visualize_pivot_points([(pivots3,'^','r')],stock.loc[stock[\"date\"]>ticker400_data[ticker].iloc[int(len(ticker400_data[ticker])/4*3)].date])\n",
    "print(len(pivots)/len(stock))\n"
   ],
   "metadata": {
    "collapsed": false,
    "pycharm": {
     "name": "#%%\n"
    }
   }
  },
  {
   "cell_type": "code",
   "execution_count": null,
   "outputs": [],
   "source": [
    "print(ticker400_data[ticker].iloc[int(len(ticker400_data)/4)].date)"
   ],
   "metadata": {
    "collapsed": false,
    "pycharm": {
     "name": "#%%\n"
    }
   }
  },
  {
   "cell_type": "code",
   "execution_count": null,
   "outputs": [],
   "source": [
    "# TODO: I should also try to consolidate pivots that are really close -> invest on the first one\n",
    "# -> option to achieve that is to cluster until distance between closes pivots is long enough\n",
    "\n",
    "# trend returns +1 if positive trend or -1 if negative trend\n",
    "def pivots_to_trend(pivot_lower: int, pivot_higher: int, stock: pd.Series) -> int:\n",
    "    \"\"\"\n",
    "    Defines the trend between pivot points.\n",
    "\n",
    "    :param pivot_lower: start of interval\n",
    "    :param pivot_higher: end of interval\n",
    "    :param stock: stock open price history on which to check for trend\n",
    "    :return: 1 if positive trend -1 if negative trend\n",
    "    \"\"\"\n",
    "    direction = stock.iloc[pivot_higher] - stock.iloc[pivot_lower]\n",
    "    print(direction, stock.iloc[pivot_lower : pivot_higher+1],stock.iloc[pivot_lower : pivot_higher+1].max(),stock.iloc[pivot_lower : pivot_higher+1].min())\n",
    "    return int(direction/direction)\n",
    "\n",
    "# return profit, lowest and highest point between pivots\n",
    "def investment_extremes(pivot_lower: int, pivot_higher: int, stock: pd.Series) -> tuple[float, float, float]:\n",
    "    \"\"\"\n",
    "    Calculate gain, overhead, drawdown in the interval of the investment for a stock.\n",
    "    \n",
    "    :param pivot_lower: start of interval\n",
    "    :param pivot_higher: end of interval\n",
    "    :param stock: stocks open price history on which to search\n",
    "    :return: (gain, max_gain, max_drawdown) all measured from start fo investment\n",
    "    \"\"\"\n",
    "    interval = stock.iloc[pivot_lower:pivot_higher+1]\n",
    "    return (interval.iloc[-1]-interval.iloc[0])/interval.iloc[0],(interval.max()-interval.iloc[0])/interval.iloc[0],(interval.min()-interval.iloc[0])/interval.iloc[0]\n",
    "\n",
    "#\n",
    "def bisect_insert(l: list, insert_me: object, get_key_func: Mapping[object, int] = None) -> list:\n",
    "    \"\"\"\n",
    "    Sorted insert with bisection\n",
    "\n",
    "    :param l: list that we wish to insert into\n",
    "    :param insert_me: variable that we wish to insert\n",
    "    :param get_key_func: function to get the key for comparison(we aren't using this tbh)\n",
    "    :return: ordered list with insert_me inserted\n",
    "    \"\"\"\n",
    "    lower = 0\n",
    "    upper = len(l)\n",
    "\n",
    "    if get_key_func is not None:\n",
    "        while lower < upper:\n",
    "            mid_point = (lower + upper)//2\n",
    "            if get_key_func(insert_me) < l[mid_point]:\n",
    "                upper = mid_point\n",
    "            else:\n",
    "                lower = mid_point + 1\n",
    "    else:\n",
    "        while lower < upper:\n",
    "            mid_point = (lower + upper)//2\n",
    "            if insert_me < l[mid_point]:\n",
    "                upper = mid_point\n",
    "            else:\n",
    "                lower = mid_point + 1\n",
    "    l.insert(lower, insert_me)\n",
    "    return l\n",
    "\n",
    "#bisect_ticker(t, tickers_ordered, trade_iterators)\n",
    "#\n",
    "def bisect_ticker(ticker: str, tickers: list, ticker_trades: Dict[str, List[object]]) -> list:\n",
    "    \"\"\"\n",
    "    Sorted insertion for tickers mapped to their trades, tickers is sorted list of tickers by start fo investment.\n",
    "\n",
    "    :param ticker: ticker to be inserted into ordered tickers\n",
    "    :param tickers: ordered list of tickers\n",
    "    :param ticker_trades: dictionary of first trade of each ticker avalible\n",
    "    :return: tickers with ticker inserted on the right position\n",
    "    \"\"\"\n",
    "    lower = 0\n",
    "    upper = len(tickers)\n",
    "\n",
    "    #print(\"Yep1:\",ticker)\n",
    "    while lower < upper:\n",
    "        mid_point = (lower + upper)//2\n",
    "        #print(\"Yep2:\",tickers[mid_point])\n",
    "        #print(\"Yep2:\",ticker_trades[ticker])\n",
    "        if ticker_trades[ticker][0][0] < ticker_trades[tickers[mid_point]][0][0]:\n",
    "            upper = mid_point\n",
    "        else:\n",
    "            lower = mid_point + 1\n",
    "\n",
    "    tickers.insert(lower, ticker)\n",
    "    return tickers\n",
    "\n",
    "# get longest history of any ticker\n",
    "def max_history_ticker(tickers: pd.DataFrame) -> str:\n",
    "    \"\"\"\n",
    "    Finds the ticker with the most history\n",
    "    :param tickers: dict of tickers ohlc price history\n",
    "    :return: string name of\n",
    "    \"\"\"\n",
    "    max_len = 0\n",
    "    best_ticker = \"\"\n",
    "    for t in tickers:\n",
    "        if len(tickers[t]) > max_len:\n",
    "            best_ticker = t\n",
    "            max_len = len(tickers[t])\n",
    "    return best_ticker\n",
    "\n",
    "# investment for stock\n",
    "def investment_based_on_pivots(percent: float, stock: pd.DataFrame, pivots: list, pivots_computed: list, ticker: str) -> Dict[tuple[int, int], tuple[float, float, float]]:#,play_both = False):\n",
    "    \"\"\"\n",
    "    Calculates all trades taken using pivots.\n",
    "\n",
    "    :param percent: percent for trend shift in fraction\n",
    "    :param stock: stock historical prices ohlc\n",
    "    :param pivots: model given pivots\n",
    "    :param pivots_computed: algorithmically computed pivots\n",
    "    :param ticker: name of ticker\n",
    "    :return: (beginning_of_investment, end_of_investment) : (profit, drawdown, overhead)\n",
    "    \"\"\"\n",
    "    opens = stock.open\n",
    "    p_p_lower = 0\n",
    "    p_p_higher = 0\n",
    "\n",
    "    # [0] is beginning of investment, [1] is end of investment\n",
    "    cur_investment = (-1,-1)\n",
    "    # holds all past investments in format ((beginning_of_investment, end_of_investment) : (profit, drawdown, overhead))\n",
    "    # we want to preserve the order in which the elements are inserted\n",
    "    investments = OrderedDict()\n",
    "\n",
    "    for c_p in pivots:\n",
    "        #print(c_p,pivots_computed[p_p_lower], pivots_computed[p_p_higher])\n",
    "        # we have to move the investing interval\n",
    "        if c_p > pivots_computed[p_p_higher]:\n",
    "\n",
    "            # assure p_p > c_p\n",
    "            p_p_lower = p_p_higher\n",
    "            for p_p_higher in range(p_p_higher,len(pivots_computed)):\n",
    "                if pivots_computed[p_p_higher] >c_p or p_p_higher == len(pivots_computed):\n",
    "                    break\n",
    "                p_p_lower = p_p_higher\n",
    "            trend = pivots_to_trend(pivots_computed[p_p_lower], pivots_computed[p_p_higher], opens)\n",
    "            # the final trend\n",
    "            if c_p > pivots_computed[p_p_higher] and p_p_higher == len(pivots_computed):\n",
    "                print(\"end2\")\n",
    "                # we are at the end -> need to implement what to do\n",
    "                trend = pivots_to_trend(pivots_computed[p_p_lower], pivots_computed[p_p_higher], opens)\n",
    "                if abs(pivots_computed[p_p_lower] - pivots[c_p]) /pivots_computed[p_p_lower] < percent:\n",
    "                    trend = -trend\n",
    "            # we are in a downtrend, we are looking to invest\n",
    "                if trend == -1:\n",
    "                    return investments\n",
    "\n",
    "                # we are in an uptrend, we are looking to exit\n",
    "                else:\n",
    "                    if cur_investment[0] != -1 and cur_investment[1] == -1:\n",
    "                        investments[cur_investment[0], c_p] = investment_extremes(cur_investment[0],c_p,opens)\n",
    "\n",
    "                return investments\n",
    "\n",
    "\n",
    "        if pivots_computed[p_p_lower] <= c_p <= pivots_computed[p_p_higher]:\n",
    "            #print(ticker)\n",
    "            # get current trend between pivots\n",
    "\n",
    "            # check if we have cleared percent% off the p_p_lower to actually make the switch in trend\n",
    "            if abs(opens.iloc[pivots_computed[p_p_lower]] - opens.iloc[c_p]) /opens.iloc[pivots_computed[p_p_lower]] < percent:\n",
    "                trend = -trend\n",
    "\n",
    "            # we are in a downtrend, we are looking to invest\n",
    "            if trend == -1:\n",
    "                if cur_investment == (-1,-1):\n",
    "                    #print(\"yay\")\n",
    "                    cur_investment = c_p, -1\n",
    "\n",
    "            # we are in an uptrend, we are looking to exit\n",
    "            else:\n",
    "\n",
    "                if cur_investment[0] != -1 and cur_investment[1] == -1:\n",
    "                    #print(\"yay\")\n",
    "                    investments[cur_investment[0], c_p] = investment_extremes(cur_investment[0],c_p,opens)\n",
    "                    cur_investment = -1,-1\n",
    "\n",
    "    # we have reached current date with open investment so we close it on the last day\n",
    "    if cur_investment[0] != -1 and cur_investment[1] == -1:\n",
    "        print(\"end\")\n",
    "        investments[cur_investment[0], len(opens)-1] = investment_extremes(cur_investment[0], len(opens-1), opens)\n",
    "\n",
    "    return investments\n",
    "\n",
    "# we do capital over all stocks\n",
    "\n",
    "\n"
   ],
   "metadata": {
    "collapsed": false,
    "pycharm": {
     "name": "#%%\n"
    }
   }
  },
  {
   "cell_type": "markdown",
   "source": [
    "Testing"
   ],
   "metadata": {
    "collapsed": false
   }
  },
  {
   "cell_type": "code",
   "execution_count": null,
   "outputs": [],
   "source": [
    "\n",
    "investment_based_on_pivots(0.1, ticker400_data['AABA'].loc[ticker400_data['AABA'][\"date\"] > date_75], pivots['AABA'], computed_pivots['AABA'],'AABA')"
   ],
   "metadata": {
    "collapsed": false,
    "pycharm": {
     "name": "#%%\n"
    }
   }
  },
  {
   "cell_type": "code",
   "execution_count": null,
   "outputs": [],
   "source": [
    "class StratTester:\n",
    "\n",
    "    # increment type is datetime and represents reinvestment strategy\n",
    "    def __init__(self, tickers, start_date, strategy, increment = -1, start_capital = 10000, model=None):\n",
    "        self.tickers = tickers\n",
    "        self.start_date = start_date\n",
    "        self.strategy = strategy\n",
    "        self.capital = [start_capital]\n",
    "        self.capital_strategy = [start_capital]\n",
    "        self.capital_buy_and_hold = [start_capital]\n",
    "        self.investments_buy_and_hold = {}\n",
    "        # we are not doing increments\n",
    "        if increment == -1:\n",
    "            self.incremental = False\n",
    "        else:\n",
    "            self.incremental = True\n",
    "            self.increment = increment\n",
    "            self.increment_start_date = self.start_date\n",
    "        if strategy == \"ga\":\n",
    "            #model holds params and function model=(params,strategy function)\n",
    "            pass\n",
    "\n",
    "    # buy and hold is either equally distributed across all investments or reinvested by a predefined increment the reinvestment is redistributed equally\n",
    "    # returns the history of our returns\n",
    "    def buy_and_hold(self):\n",
    "        investment_per = self.capital_buy_and_hold[-1]/len(self.tickers)\n",
    "        #print(investment_per)\n",
    "        self.capital_buy_and_hold.append(0)\n",
    "        if self.incremental:\n",
    "            # end_increment is included in the calculation so the reinvestment happens on the same day!\n",
    "            end_increment = self.increment_start_date + self.increment\n",
    "            # edge case that end_increment is out of date scope then we just cut off the last week and return it\n",
    "            if self.tickers[next(iter(self.tickers))]['date'].max() < self.increment_start_date:\n",
    "                return self.capital_buy_and_hold\n",
    "            for ticker in self.tickers:\n",
    "                #print(self.increment_start_date, end_increment)\n",
    "                increment = self.tickers[ticker].loc[(self.tickers[ticker]['date'] >= self.increment_start_date) & (self.tickers[ticker]['date'] <= end_increment)]\n",
    "                #print(increment.iloc[0],increment.iloc[-1])\n",
    "                if len(increment)<=1:\n",
    "                    self.investments_buy_and_hold[ticker] = investment_per\n",
    "                else:\n",
    "                    percent_change = (increment.iloc[-1].open - increment.iloc[0].open) / increment.iloc[0].open\n",
    "                    #print(percent_change, len(increment))\n",
    "                    self.investments_buy_and_hold[ticker] = investment_per*percent_change + investment_per\n",
    "                    #print(self.investments_buy_and_hold)\n",
    "                    #print(self.investments_buy_and_hold[ticker])\n",
    "                #if ticker == \"MNST\":\n",
    "                    #print(percent_change,ticker,len(increment))\n",
    "                    #print(increment.iloc[0].open,increment.iloc[-1].open)\n",
    "                self.capital_buy_and_hold[-1] = self.investments_buy_and_hold[ticker] + self.capital_buy_and_hold[-1]\n",
    "            self.increment_start_date = end_increment\n",
    "            return self.buy_and_hold()\n",
    "        else:\n",
    "            max = 0\n",
    "            besto = \"\"\n",
    "            for ticker in self.tickers:\n",
    "                increment = self.tickers[ticker].loc[(self.tickers[ticker]['date'] >= self.start_date)]\n",
    "                percent_change = (increment.iloc[-1].open - increment.iloc[0].open) / increment.iloc[0].open\n",
    "                #print(percent_change, investment_per)\n",
    "                self.capital_buy_and_hold[-1] = self.capital_buy_and_hold[-1] + percent_change * investment_per + investment_per\n",
    "            return self.capital_buy_and_hold\n",
    "\n",
    "    def ga_pivot_strategy(self, pivots, computed_pivots, amount_of_capital_per = 0.01):\n",
    "        trades = OrderedDict()\n",
    "        trades_per_stock = {}\n",
    "        curr_capital = self.capital[0]\n",
    "\n",
    "        # populate all trades\n",
    "        for t in self.tickers:\n",
    "            print(t)\n",
    "            trades_per_stock[t] = investment_based_on_pivots(percent = 0.1, stock =  self.tickers[t], pivots = pivots[t], pivots_computed = computed_pivots[t],ticker=t)\n",
    "\n",
    "        # trade iterators needs the\n",
    "        trade_iterators = {t : [(-1,-1), trades_per_stock[t].__iter__()] for t in trades_per_stock}\n",
    "\n",
    "\n",
    "        # holds trade end date and amount gained (trade_end, stats)\n",
    "        list_of_active_trades = []\n",
    "        # ordered dict to keep tabs on portfolio growth, {day_index : capital, ticker, trade}\n",
    "        capital_history = {}\n",
    "        tickers_ordered = []\n",
    "        # init the trade_iterators to show the first\n",
    "        for t in list(trade_iterators):\n",
    "                # if there is no latest trade, get latest trade from iterator\n",
    "                if trade_iterators[t][0] == (-1,-1):\n",
    "                    trade = next(trade_iterators[t][1],-1)\n",
    "                    if trade == -1:\n",
    "                        trade_iterators.pop(t)\n",
    "                    else:\n",
    "                        trade_iterators[t][0] = trade\n",
    "                        tickers_ordered = bisect_ticker(t, tickers_ordered, trade_iterators)\n",
    "        # go through these trades and simulate investment\n",
    "        \"\"\"while True:\n",
    "            upcoming_ticker = tickers_ordered.pop(0)\n",
    "            for trade in list_of_active_trades:\n",
    "                if trade < trade_iterators[upcoming_ticker][0]:\n",
    "                    capital_size[]\n",
    "        \"\"\"\n",
    "\n",
    "        return trade_iterators\n",
    "                # finding the most recent trade\n"
   ],
   "metadata": {
    "collapsed": false,
    "pycharm": {
     "name": "#%%\n"
    }
   }
  },
  {
   "cell_type": "code",
   "execution_count": null,
   "outputs": [],
   "source": [
    "# get maximum length\n",
    "max_t = max_history_ticker(ticker400_data)\n",
    "print(max_t)\n",
    "date_75 = ticker400_data[max_t].iloc[int(len(ticker400_data[max_t])/4*3)].date\n"
   ],
   "metadata": {
    "collapsed": false,
    "pycharm": {
     "name": "#%%\n"
    }
   }
  },
  {
   "cell_type": "code",
   "execution_count": null,
   "outputs": [],
   "source": [
    "with open('test_results100.pkl', 'rb') as handle:\n",
    "        print(\"work\")\n",
    "        pivot_parameters = pickle.load(handle)\n",
    "\n",
    "pivots = {t : combined_filter_strategy(pivot_parameters.loc[(pivot_parameters[\"Ticker\"] == t) & (pivot_parameters[\"Percent\"] == 10)]['Train_solution'].iloc[0], date_75,ticker400_data[t],n_lagged = 20) for t in ticker400_data}\n",
    "computed_pivots = {t : trendReversals(ticker400_data[t].loc[ticker400_data[t][\"date\"]>date_75], 0.1) for t in ticker400_data}\n"
   ],
   "metadata": {
    "collapsed": false,
    "pycharm": {
     "name": "#%%\n"
    }
   }
  },
  {
   "cell_type": "code",
   "execution_count": null,
   "outputs": [],
   "source": [
    "#ticker400_data['AABA'].iloc[int(len(ticker400_data)/4*3)].date\n",
    "test = StratTester(ticker400_data,date_75,strategy=None,increment=datetime.timedelta(weeks=1))\n",
    "#test2 = StratTester(ticker400_data,ticker400_data['AABA'].iloc[int(len(ticker400_data)/4*3)].date,strategy=None,increment=-1)\n",
    "#print(test.buy_and_hold(),test2.buy_and_hold())\n",
    "hodl = test.ga_pivot_strategy(pivots,computed_pivots)"
   ],
   "metadata": {
    "collapsed": false,
    "pycharm": {
     "name": "#%%\n"
    }
   }
  },
  {
   "cell_type": "markdown",
   "source": [
    "Analysis of the distribution per percent and withing ticker"
   ],
   "metadata": {
    "collapsed": false
   }
  },
  {
   "cell_type": "code",
   "execution_count": null,
   "outputs": [],
   "source": [
    "list(res.iloc[0][\"Train_solution\"])"
   ],
   "metadata": {
    "collapsed": false,
    "pycharm": {
     "name": "#%%\n"
    }
   }
  },
  {
   "cell_type": "code",
   "execution_count": null,
   "outputs": [],
   "source": [
    "def get_triggers(df,dfY,tick,percent,n_lagged = 20,sty=0):\n",
    "    def fita(solution, index):\n",
    "        #47 genov\n",
    "        #solution = [retUP,volUP,vol5UP,vol10UP,vol15UP,vol20UP,retDW,volDW,vol5DW,vol10DW,vol15DW,vol20DW,priorRUp,priorVUp,priorvol5UP,priorvol10UP,priorvol15UP,priorvol20UP,priorRDW,priorVDW,priorvol5DW,priorvol10DW,priorvol15DW,priorvol20DW,posR,pos1,pos5,pos10,pos15,pos20,posRD,pos1D,pos5D,pos10D,pos15D,pos20D,con1,con2,con3,con4,con5,cond1,cond2,cond3,cond4,cond5,skupi]\n",
    "\n",
    "        ####TRANSLATE TO POS ARGS####\n",
    "        posu = [-1]*6\n",
    "        posd = [-1]*6\n",
    "        start = 0\n",
    "        for i in solution[24:30]:\n",
    "            if i not in posu:\n",
    "                posu[start] = i\n",
    "            start = start + 1\n",
    "        start = 0\n",
    "        for i in solution[30:36]:\n",
    "            if i not in posd:\n",
    "                posd[start] = i\n",
    "            start = start + 1\n",
    "        start = 0\n",
    "        last = 0\n",
    "        for i in posu:\n",
    "            if i == -1:\n",
    "                for last in range(last,6):\n",
    "                    if last not in posu:\n",
    "                        posu[start] = last\n",
    "                        break\n",
    "            start = start + 1\n",
    "        start = 0\n",
    "        last = 0\n",
    "        for i in posd:\n",
    "            if i == -1:\n",
    "                for last in range(last,6):\n",
    "                    if last not in posd:\n",
    "                        posd[start] = last\n",
    "                        break\n",
    "            start = start + 1\n",
    "\n",
    "        #############################\n",
    "\n",
    "        for ite in range(len(solution)):\n",
    "            if ite<12 and solution[ite] <= -1:\n",
    "                return -1\n",
    "            elif ite>=12 and solution[ite] < 0:\n",
    "                return -1\n",
    "        solution = [x[0] if hasattr(x,'__len__') else x for x in solution]\n",
    "        #print(solution)\n",
    "        col = 'volume%'\n",
    "        if n_lagged == 5:\n",
    "            col = 'volume5%'\n",
    "        if n_lagged == 10:\n",
    "            col = 'volume10%'\n",
    "        if n_lagged == 15:\n",
    "            col = 'volume15%'\n",
    "        if n_lagged == 20:\n",
    "            col = 'volume20%'\n",
    "\n",
    "        test = df[tick][1][n_lagged-1:]\n",
    "\n",
    "        ############QUERY SPEED TEST##############\n",
    "        col_names = ['return_sh','vol_sh','vol5_sh','vol10_sh','vol15_sh','vol20_sh']\n",
    "        test['return_sh'] = test['return'].shift( (solution[12]))\n",
    "        test['vol_sh'] = test['volume%'].shift( (solution[13]))\n",
    "        test['vol5_sh'] = test['volume5%'].shift( (solution[14]))\n",
    "        test['vol10_sh'] = test['volume10%'].shift( (solution[15]))\n",
    "        test['vol15_sh'] = test['volume15%'].shift( (solution[16]))\n",
    "        test['vol20_sh'] = test['volume20%'].shift( (solution[17]))\n",
    "        test = test.reset_index()\n",
    "        if sty == 0:\n",
    "            u0 = ' | ' if solution[36] else ' & '\n",
    "            u1 = ' | ' if solution[37] else ' & '\n",
    "            u2 = ' | ' if solution[38] else ' & '\n",
    "            u3 = ' | ' if solution[39] else ' & '\n",
    "            u4 = ' | ' if solution[40] else ' & '\n",
    "\n",
    "            connec = ' | ' if solution[-1] else ' & '\n",
    "\n",
    "            d0 = ' | ' if solution[41] else ' & '\n",
    "            d1 = ' | ' if solution[42] else ' & '\n",
    "            d2 = ' | ' if solution[43] else ' & '\n",
    "            d3 = ' | ' if solution[44] else ' & '\n",
    "            d4 = ' | ' if solution[45] else ' & '\n",
    "            q = ('(' +col_names[posu[0]] + ' > ' + str(solution[posu[0]]) + u0 +\n",
    "                '(' +col_names[posu[1]] + ' > ' + str(solution[posu[1]]) + u1 +\n",
    "                '(' +col_names[posu[2]] + ' > ' + str(solution[posu[2]]) + u2 +\n",
    "                '(' +col_names[posu[3]] + ' > ' + str(solution[posu[3]]) + u3 +\n",
    "                '(' +col_names[posu[4]] + ' > ' + str(solution[posu[4]]) + u4 +\n",
    "                '(' +col_names[posu[5]] + ' > ' + str(solution[posu[5]]) + '))))))' +\n",
    "                connec +\n",
    "                '(' +col_names[posd[0]] + ' < ' + str(solution[posd[0]]) + d0 +\n",
    "                '(' +col_names[posd[1]] + ' < ' + str(solution[posd[1]]) + d1 +\n",
    "                '(' +col_names[posd[2]] + ' < ' + str(solution[posd[2]]) + d2 +\n",
    "                '(' +col_names[posd[3]] + ' < ' + str(solution[posd[3]]) + d3 +\n",
    "                '(' +col_names[posd[4]] + ' < ' + str(solution[posd[4]]) + d4 +\n",
    "                '(' +col_names[posd[5]] + ' < ' + str(solution[posd[5]]) + '))))))')\n",
    "\n",
    "            up = test.query(q).index\n",
    "            res = np.array([False]*len(df[tick][1][n_lagged-1:]))\n",
    "            res[up] =True\n",
    "\n",
    "\n",
    "        #print(roc_auc_score(dfY[tick][percent][0],res))\n",
    "        return roc_auc_score(dfY[tick][percent][1][n_lagged-1:],res)\n",
    "    return fita"
   ],
   "metadata": {
    "collapsed": false,
    "pycharm": {
     "name": "#%%\n"
    }
   }
  },
  {
   "cell_type": "markdown",
   "source": [
    "opcije za portofiljo managment:\n",
    "-pogledamo kakšna je bla smer pred signalom in investiramo če je bla navzdol al pa"
   ],
   "metadata": {
    "collapsed": false
   }
  },
  {
   "cell_type": "code",
   "execution_count": null,
   "outputs": [],
   "source": [],
   "metadata": {
    "collapsed": false,
    "pycharm": {
     "name": "#%%\n"
    }
   }
  },
  {
   "cell_type": "code",
   "execution_count": null,
   "outputs": [],
   "source": [
    "solid_results = pd.DataFrame(columns=['ticker','percent','train_AUC','test_AUC'])\n",
    "for t in res:\n",
    "    for p in res[t]:\n",
    "        solid_results = solid_results.append({'ticker':t,'percent':p,'train_AUC':res[t][p]['train'].last_generation_fitness,'test_AUC':res[t][p]['test']},ignore_index=True)"
   ],
   "metadata": {
    "collapsed": false,
    "pycharm": {
     "name": "#%%\n"
    }
   }
  },
  {
   "cell_type": "code",
   "execution_count": null,
   "outputs": [],
   "source": [
    "res['AABA'][10][\"train\"].save(\"./modeli/AABA10\")"
   ],
   "metadata": {
    "collapsed": false,
    "pycharm": {
     "name": "#%%\n"
    }
   }
  },
  {
   "cell_type": "code",
   "execution_count": null,
   "outputs": [],
   "source": [
    "print(res['AABA'][10][\"train\"].best_solutions[-1])\n",
    "\n",
    "from pathlib import Path\n",
    "Path(\"./modeli\").mkdir(parents=True, exist_ok=True)\n",
    "for t in res:\n",
    "    for p in res[t]:\n",
    "        path = Path(f\"./modeli/{t}{str(p)}\")\n",
    "        if res[t][p][\"test\"] is not None and Path\n"
   ],
   "metadata": {
    "collapsed": false,
    "pycharm": {
     "name": "#%%\n"
    }
   }
  },
  {
   "cell_type": "markdown",
   "source": [
    "Visualise reuslts"
   ],
   "metadata": {
    "collapsed": false
   }
  },
  {
   "cell_type": "code",
   "execution_count": null,
   "outputs": [],
   "source": [
    "#rabmo 2 subplota enga za train AUC in enga za test AUC in za razilčne procente AUC\n",
    "results_for_x = [(res[t]['train'].best_solutions_fitness[-1],res[t]['test']) for t in list(ticker400_data)]"
   ],
   "metadata": {
    "collapsed": false,
    "pycharm": {
     "name": "#%%\n"
    }
   }
  }
 ],
 "metadata": {
  "kernelspec": {
   "display_name": "Python 3",
   "language": "python",
   "name": "python3"
  },
  "language_info": {
   "codemirror_mode": {
    "name": "ipython",
    "version": 2
   },
   "file_extension": ".py",
   "mimetype": "text/x-python",
   "name": "python",
   "nbconvert_exporter": "python",
   "pygments_lexer": "ipython2",
   "version": "2.7.6"
  }
 },
 "nbformat": 4,
 "nbformat_minor": 0
}